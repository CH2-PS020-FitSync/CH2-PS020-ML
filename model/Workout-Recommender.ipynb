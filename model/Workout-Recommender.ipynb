{
  "cells": [
    {
      "cell_type": "markdown",
      "metadata": {
        "id": "YHHxVCaqXPwi"
      },
      "source": [
        "<a href=\"https://colab.research.google.com/github/CH2-PS020-FitSync/CH2-PS020-ML/blob/main/model/Workout-Recommender.ipynb\" target=\"_parent\"><img src=\"https://colab.research.google.com/assets/colab-badge.svg\" alt=\"Open In Colab\"/></a>"
      ]
    },
    {
      "cell_type": "code",
      "execution_count": 1,
      "metadata": {
        "colab": {
          "base_uri": "https://localhost:8080/"
        },
        "id": "K1Vc4oChajjq",
        "outputId": "abb54a2d-9dc8-439a-f497-4a34f2955327"
      },
      "outputs": [],
      "source": [
        "try:\n",
        "    from google.colab import drive\n",
        "\n",
        "    !pip install faker\n",
        "\n",
        "    # gymvisual-cleaned-2.json\n",
        "    !gdown \"1iFDqbXWFs3CM5mgXpsN4f5NTbZdzdMiX\"\n",
        "    # work-hist.json (DUMMY, SHOULD RETRIEVE history & users' data FROM DATABASE)\n",
        "    !gdown \"1SlgWerOrAqgBdaE4Hhzb8XHVBhPKzKwj\"\n",
        "\n",
        "    workout_json = './gymvisual-cleaned-2.json'\n",
        "    hist_json = './work-hist.json'\n",
        "except ImportError:\n",
        "    workout_json = '../data/gymvisual-cleaned-2.json'\n",
        "    hist_json = '../data/work-hist.json'"
      ]
    },
    {
      "cell_type": "code",
      "execution_count": 2,
      "metadata": {
        "id": "-foQmdoYajjw"
      },
      "outputs": [],
      "source": [
        "import json\n",
        "\n",
        "import numpy as np\n",
        "import pandas as pd\n",
        "import tensorflow as tf\n",
        "from sklearn.model_selection import train_test_split\n",
        "from sklearn.preprocessing import LabelEncoder\n",
        "from tensorflow.keras.layers import (Dense, Embedding, Flatten, Input, concatenate)\n",
        "from tensorflow.keras.models import Model"
      ]
    },
    {
      "cell_type": "code",
      "execution_count": 3,
      "metadata": {
        "id": "NcKcZP7fajjz"
      },
      "outputs": [],
      "source": [
        "with open(workout_json, 'r') as f:\n",
        "    workout_f = json.load(f)\n",
        "\n",
        "df_workout = pd.json_normalize(workout_f)\n",
        "# df_hist = pd.read_json(hist_json)\n",
        "\n",
        "df_workout.drop(\n",
        "    ['desc', 'jpg', 'gif', 'duration.desc', 'duration.min', 'duration.rep', 'duration.set', 'duration.sec'],\n",
        "    axis=1, inplace=True\n",
        ")\n",
        "\n",
        "df_workout.drop(\n",
        "    df_workout[df_workout.level == 'Beginner'].sample(frac=.8).index,\n",
        "    inplace=True\n",
        ")\n"
      ]
    },
    {
      "cell_type": "code",
      "execution_count": 4,
      "metadata": {
        "colab": {
          "base_uri": "https://localhost:8080/",
          "height": 206
        },
        "id": "qHQXUWD2XPw7",
        "outputId": "b6f12c2e-0f04-4cff-ab73-b0f0ceb25011"
      },
      "outputs": [
        {
          "data": {
            "text/html": [
              "<div>\n",
              "<style scoped>\n",
              "    .dataframe tbody tr th:only-of-type {\n",
              "        vertical-align: middle;\n",
              "    }\n",
              "\n",
              "    .dataframe tbody tr th {\n",
              "        vertical-align: top;\n",
              "    }\n",
              "\n",
              "    .dataframe thead th {\n",
              "        text-align: right;\n",
              "    }\n",
              "</style>\n",
              "<table border=\"1\" class=\"dataframe\">\n",
              "  <thead>\n",
              "    <tr style=\"text-align: right;\">\n",
              "      <th></th>\n",
              "      <th>name</th>\n",
              "      <th>gender</th>\n",
              "      <th>title</th>\n",
              "      <th>level</th>\n",
              "      <th>rating</th>\n",
              "      <th>diff</th>\n",
              "    </tr>\n",
              "  </thead>\n",
              "  <tbody>\n",
              "    <tr>\n",
              "      <th>0</th>\n",
              "      <td>John Ramos</td>\n",
              "      <td>Female</td>\n",
              "      <td>Decline Push-up (Kneeling) (female)</td>\n",
              "      <td>Expert</td>\n",
              "      <td>2</td>\n",
              "      <td>2</td>\n",
              "    </tr>\n",
              "    <tr>\n",
              "      <th>1</th>\n",
              "      <td>John Ramos</td>\n",
              "      <td>Female</td>\n",
              "      <td>Two Legged Inverted Staff Pose Dwi Pada Vipari...</td>\n",
              "      <td>Expert</td>\n",
              "      <td>5</td>\n",
              "      <td>0</td>\n",
              "    </tr>\n",
              "    <tr>\n",
              "      <th>2</th>\n",
              "      <td>John Ramos</td>\n",
              "      <td>Female</td>\n",
              "      <td>Two Legged Inverted Staff Pose Dwi Pada Vipari...</td>\n",
              "      <td>Expert</td>\n",
              "      <td>6</td>\n",
              "      <td>0</td>\n",
              "    </tr>\n",
              "    <tr>\n",
              "      <th>3</th>\n",
              "      <td>John Ramos</td>\n",
              "      <td>Female</td>\n",
              "      <td>Scissors (advanced) (female)</td>\n",
              "      <td>Expert</td>\n",
              "      <td>5</td>\n",
              "      <td>0</td>\n",
              "    </tr>\n",
              "    <tr>\n",
              "      <th>4</th>\n",
              "      <td>John Ramos</td>\n",
              "      <td>Female</td>\n",
              "      <td>Air Bike (VERSION 2) (female)</td>\n",
              "      <td>Expert</td>\n",
              "      <td>8</td>\n",
              "      <td>0</td>\n",
              "    </tr>\n",
              "  </tbody>\n",
              "</table>\n",
              "</div>"
            ],
            "text/plain": [
              "         name  gender                                              title  \\\n",
              "0  John Ramos  Female                Decline Push-up (Kneeling) (female)   \n",
              "1  John Ramos  Female  Two Legged Inverted Staff Pose Dwi Pada Vipari...   \n",
              "2  John Ramos  Female  Two Legged Inverted Staff Pose Dwi Pada Vipari...   \n",
              "3  John Ramos  Female                       Scissors (advanced) (female)   \n",
              "4  John Ramos  Female                      Air Bike (VERSION 2) (female)   \n",
              "\n",
              "    level  rating  diff  \n",
              "0  Expert       2     2  \n",
              "1  Expert       5     0  \n",
              "2  Expert       6     0  \n",
              "3  Expert       5     0  \n",
              "4  Expert       8     0  "
            ]
          },
          "execution_count": 4,
          "metadata": {},
          "output_type": "execute_result"
        }
      ],
      "source": [
        "# Dummy User\n",
        "\n",
        "from faker import Faker\n",
        "from random import choice, random, randint\n",
        "\n",
        "gender = ['Male', 'Female']\n",
        "level = ['Beginner', 'Intermediate', 'Expert']\n",
        "\n",
        "faker = Faker()\n",
        "df_user = pd.DataFrame([\n",
        "    {\n",
        "        'name': faker.name(),\n",
        "        'gender': choice(gender),\n",
        "        'weight': round(random(), 1) + randint(40, 70),\n",
        "        'height': randint(150, 180),\n",
        "        'age': randint(15, 30),\n",
        "        'level': choice(level)\n",
        "    } for _ in range(100)\n",
        "])\n",
        "\n",
        "df_hist = []\n",
        "\n",
        "for name in df_user.name:\n",
        "    user = df_user[df_user.name == name]\n",
        "    u_level = level.index(user.level.values[0])\n",
        "    u_gender = user.gender.values[0]\n",
        "\n",
        "    for _ in range(randint(20, 100)):\n",
        "        workout_det_level = df_workout[(df_workout.gender == 'Female') & (random() < 0.4 or df_workout.level == 'Expert')]\n",
        "        workout = workout_det_level.sample(1)\n",
        "        w_level = level.index(workout.level.values[0])\n",
        "        diff = abs(u_level - w_level)\n",
        "        rating = max(0, randint(5, 10) - (randint(3, 6) if diff > 1 else randint(2, 4) if diff else randint(0, 1)))\n",
        "\n",
        "        df_hist.append(\n",
        "            {\n",
        "                'name': user.name.values[0],\n",
        "                'gender': user.gender.values[0],\n",
        "                'title': workout.title.values[0],\n",
        "                'level': user.level.values[0],\n",
        "                'rating': rating,\n",
        "                'diff': diff\n",
        "            }\n",
        "        )\n",
        "\n",
        "df_hist = pd.DataFrame(df_hist)\n",
        "df_hist.head()"
      ]
    },
    {
      "cell_type": "code",
      "execution_count": 5,
      "metadata": {
        "id": "niT7bb3NXPw_"
      },
      "outputs": [],
      "source": [
        "FEATURES = ['gender_x', 'level_x', 'title', 'type', 'body_part', 'gender_y', 'level_y']\n",
        "LABEL_ENCODER = dict()"
      ]
    },
    {
      "cell_type": "code",
      "execution_count": 6,
      "metadata": {
        "id": "Bra7AYLrXPxB"
      },
      "outputs": [],
      "source": [
        "def get_col_to_encode(*dataframes):\n",
        "    cols = set()\n",
        "\n",
        "    for dataframe in dataframes:\n",
        "        dataframe_cols = dataframe.select_dtypes(exclude=[np.number])\n",
        "        cols.update(dataframe_cols)\n",
        "\n",
        "        for col in dataframe_cols.columns:\n",
        "            if col != 'name':\n",
        "                LABEL_ENCODER[col] = LABEL_ENCODER.get(col, LabelEncoder().fit(dataframe[col]))\n",
        "\n",
        "    if 'name' in cols:\n",
        "        cols.remove('name')\n",
        "\n",
        "    return cols"
      ]
    },
    {
      "cell_type": "markdown",
      "metadata": {
        "id": "zh61_BhvXPxD"
      },
      "source": [
        "# EDA"
      ]
    },
    {
      "cell_type": "code",
      "execution_count": 7,
      "metadata": {
        "colab": {
          "base_uri": "https://localhost:8080/",
          "height": 206
        },
        "id": "AogstaJ5XPxE",
        "outputId": "c3a89033-4356-43ae-8ad4-1c6d3d73e179"
      },
      "outputs": [
        {
          "data": {
            "text/html": [
              "<div>\n",
              "<style scoped>\n",
              "    .dataframe tbody tr th:only-of-type {\n",
              "        vertical-align: middle;\n",
              "    }\n",
              "\n",
              "    .dataframe tbody tr th {\n",
              "        vertical-align: top;\n",
              "    }\n",
              "\n",
              "    .dataframe thead th {\n",
              "        text-align: right;\n",
              "    }\n",
              "</style>\n",
              "<table border=\"1\" class=\"dataframe\">\n",
              "  <thead>\n",
              "    <tr style=\"text-align: right;\">\n",
              "      <th></th>\n",
              "      <th>title</th>\n",
              "      <th>type</th>\n",
              "      <th>body_part</th>\n",
              "      <th>gender</th>\n",
              "      <th>level</th>\n",
              "    </tr>\n",
              "  </thead>\n",
              "  <tbody>\n",
              "    <tr>\n",
              "      <th>1</th>\n",
              "      <td>Air bike</td>\n",
              "      <td>Strength</td>\n",
              "      <td>Waist</td>\n",
              "      <td>Male</td>\n",
              "      <td>Intermediate</td>\n",
              "    </tr>\n",
              "    <tr>\n",
              "      <th>5</th>\n",
              "      <td>Bench Dip (knees bent)</td>\n",
              "      <td>Strength</td>\n",
              "      <td>Upper Arms</td>\n",
              "      <td>Male</td>\n",
              "      <td>Beginner</td>\n",
              "    </tr>\n",
              "    <tr>\n",
              "      <th>17</th>\n",
              "      <td>Chest Dip</td>\n",
              "      <td>Strength</td>\n",
              "      <td>Chest</td>\n",
              "      <td>Male</td>\n",
              "      <td>Intermediate</td>\n",
              "    </tr>\n",
              "    <tr>\n",
              "      <th>23</th>\n",
              "      <td>Cross Body Twisting Crunch</td>\n",
              "      <td>Strength</td>\n",
              "      <td>Waist</td>\n",
              "      <td>Female</td>\n",
              "      <td>Beginner</td>\n",
              "    </tr>\n",
              "    <tr>\n",
              "      <th>32</th>\n",
              "      <td>Donkey Calf Raise</td>\n",
              "      <td>Strength</td>\n",
              "      <td>Calves</td>\n",
              "      <td>Male</td>\n",
              "      <td>Beginner</td>\n",
              "    </tr>\n",
              "  </tbody>\n",
              "</table>\n",
              "</div>"
            ],
            "text/plain": [
              "                         title      type   body_part  gender         level\n",
              "1                     Air bike  Strength       Waist    Male  Intermediate\n",
              "5       Bench Dip (knees bent)  Strength  Upper Arms    Male      Beginner\n",
              "17                   Chest Dip  Strength       Chest    Male  Intermediate\n",
              "23  Cross Body Twisting Crunch  Strength       Waist  Female      Beginner\n",
              "32           Donkey Calf Raise  Strength      Calves    Male      Beginner"
            ]
          },
          "execution_count": 7,
          "metadata": {},
          "output_type": "execute_result"
        }
      ],
      "source": [
        "df_workout.head()"
      ]
    },
    {
      "cell_type": "code",
      "execution_count": 8,
      "metadata": {
        "colab": {
          "base_uri": "https://localhost:8080/"
        },
        "id": "nNzp1yb1XPxF",
        "outputId": "2b0ce1e4-c70f-49c6-fc32-7c7f22eb5650"
      },
      "outputs": [
        {
          "name": "stdout",
          "output_type": "stream",
          "text": [
            "<class 'pandas.core.frame.DataFrame'>\n",
            "Index: 537 entries, 1 to 1865\n",
            "Data columns (total 5 columns):\n",
            " #   Column     Non-Null Count  Dtype \n",
            "---  ------     --------------  ----- \n",
            " 0   title      537 non-null    object\n",
            " 1   type       537 non-null    object\n",
            " 2   body_part  532 non-null    object\n",
            " 3   gender     537 non-null    object\n",
            " 4   level      537 non-null    object\n",
            "dtypes: object(5)\n",
            "memory usage: 25.2+ KB\n"
          ]
        }
      ],
      "source": [
        "df_workout.info()"
      ]
    },
    {
      "cell_type": "code",
      "execution_count": 9,
      "metadata": {
        "colab": {
          "base_uri": "https://localhost:8080/"
        },
        "id": "nCgPBqmaXPxG",
        "outputId": "08f395d5-26ab-47e7-8fdb-2a53009630b9"
      },
      "outputs": [
        {
          "name": "stdout",
          "output_type": "stream",
          "text": [
            "type\n",
            "Strength      289\n",
            "Stretching    149\n",
            "Aerobic        99\n",
            "Name: count, dtype: int64\n",
            "\n",
            "body_part\n",
            "Hips           81\n",
            "Waist          80\n",
            "Plyometrics    69\n",
            "Back           55\n",
            "Thighs         44\n",
            "Chest          27\n",
            "Cardio         26\n",
            "Calves         22\n",
            "Shoulders      20\n",
            "Stretching     20\n",
            "Name: count, dtype: int64\n",
            "\n",
            "gender\n",
            "Male      399\n",
            "Female    138\n",
            "Name: count, dtype: int64\n",
            "\n",
            "level\n",
            "Beginner        332\n",
            "Intermediate    124\n",
            "Expert           81\n",
            "Name: count, dtype: int64\n"
          ]
        }
      ],
      "source": [
        "print(\n",
        "    df_workout.type.value_counts(),\n",
        "    df_workout.body_part.value_counts()[:10],\n",
        "    df_workout.gender.value_counts(),\n",
        "    df_workout.level.value_counts(),\n",
        "    sep='\\n\\n'\n",
        ")"
      ]
    },
    {
      "cell_type": "markdown",
      "metadata": {
        "id": "m_BGEb6DXPxI"
      },
      "source": [
        "# Encoding"
      ]
    },
    {
      "cell_type": "code",
      "execution_count": 10,
      "metadata": {
        "id": "vkI__RjrXPxJ"
      },
      "outputs": [],
      "source": [
        "def encode_hist_work(df_workout, df_hist):\n",
        "    encoded_df_workout = df_workout.copy()\n",
        "    encoded_df_hist = df_hist.copy()\n",
        "\n",
        "    columns_to_encode = get_col_to_encode(encoded_df_workout, encoded_df_hist) # Inplace encode\n",
        "\n",
        "    for col in columns_to_encode:\n",
        "\n",
        "        if col in encoded_df_workout.columns:\n",
        "            encoded_df_workout[col] = LABEL_ENCODER[col].transform(encoded_df_workout[col])\n",
        "\n",
        "        if col in encoded_df_hist.columns:\n",
        "            encoded_df_hist[col] = LABEL_ENCODER[col].transform(encoded_df_hist[col])\n",
        "\n",
        "\n",
        "    return encoded_df_workout, encoded_df_hist\n",
        "\n",
        "df_workout_copy, df_hist_copy = encode_hist_work(df_workout, df_hist)"
      ]
    },
    {
      "cell_type": "code",
      "execution_count": 11,
      "metadata": {},
      "outputs": [
        {
          "data": {
            "text/plain": [
              "(      title  type  body_part  gender  level\n",
              " 1         7     1         26       1      2\n",
              " 5        24     1         24       1      0\n",
              " 17       71     1          9       1      2\n",
              " 23       83     1         26       0      0\n",
              " 32      100     1          7       1      0\n",
              " ...     ...   ...        ...     ...    ...\n",
              " 1850    314     1          0       1      2\n",
              " 1852    459     0         20       1      0\n",
              " 1860    212     0          8       1      1\n",
              " 1864    252     1         23       1      0\n",
              " 1865    248     1         23       1      2\n",
              " \n",
              " [537 rows x 5 columns],\n",
              "                 name  gender  title  level  rating  diff\n",
              " 0         John Ramos       0     92      1       2     2\n",
              " 1         John Ramos       0    518      1       5     0\n",
              " 2         John Ramos       0    518      1       6     0\n",
              " 3         John Ramos       0    372      1       5     0\n",
              " 4         John Ramos       0      4      1       8     0\n",
              " ...              ...     ...    ...    ...     ...   ...\n",
              " 6199  Lucas Cummings       1    372      0       2     2\n",
              " 6200  Lucas Cummings       1    518      0       2     2\n",
              " 6201  Lucas Cummings       1    372      0       3     2\n",
              " 6202  Lucas Cummings       1    215      0       6     0\n",
              " 6203  Lucas Cummings       1     86      0       7     0\n",
              " \n",
              " [6204 rows x 6 columns])"
            ]
          },
          "execution_count": 11,
          "metadata": {},
          "output_type": "execute_result"
        }
      ],
      "source": [
        "df_workout_copy, df_hist_copy"
      ]
    },
    {
      "cell_type": "code",
      "execution_count": 12,
      "metadata": {
        "colab": {
          "base_uri": "https://localhost:8080/"
        },
        "id": "OAsH0ByVXPxK",
        "outputId": "0b5fad56-fafd-4241-a0a0-7ac56b6b6c86"
      },
      "outputs": [
        {
          "name": "stdout",
          "output_type": "stream",
          "text": [
            "rints': 531, 'World Greatest Stretch': 532, 'Wrist Circles (female)': 533, 'Wrist Ulnar Deviator And Extensor Stretch': 534, 'Yoga Vajrasana Thunderbolt Diamond Pose (male)': 535, 'ZigZag Hopes': 536}\n",
            "{'Aerobic': 0, 'Strength': 1, 'Stretching': 2}\n",
            "7, 'Hips, Waist': 18, 'Neck': 19, 'Plyometrics': 20, 'Shoulders': 21, 'Stretching': 22, 'Thighs': 23, 'Upper Arms': 24, 'Upper Arms, Waist': 25, 'Waist': 26, 'Weightlifting': 27, 'Yoga': 28, None: 29}\n",
            "{'Female': 0, 'Male': 1}\n",
            "{'Beginner': 0, 'Expert': 1, 'Intermediate': 2}\n"
          ]
        }
      ],
      "source": [
        "for le in LABEL_ENCODER:\n",
        "    print(repr(dict(zip(LABEL_ENCODER[le].classes_, LABEL_ENCODER[le].transform(LABEL_ENCODER[le].classes_))))[-200:])"
      ]
    },
    {
      "cell_type": "markdown",
      "metadata": {
        "id": "Owfl6LMfXPxL"
      },
      "source": [
        "# Building Model"
      ]
    },
    {
      "cell_type": "code",
      "execution_count": 13,
      "metadata": {
        "id": "GIqtl_Q49QHo"
      },
      "outputs": [
        {
          "name": "stdout",
          "output_type": "stream",
          "text": [
            "39/39 [==============================] - 0s 838us/step - loss: 4.7034 - mse: 4.7034 - mae: 1.7812\n",
            "Test loss: [4.703448295593262, 4.703448295593262, 1.7811813354492188]\n"
          ]
        },
        {
          "name": "stderr",
          "output_type": "stream",
          "text": [
            "c:\\Users\\asus\\Downloads\\Github\\venv playground\\env\\Lib\\site-packages\\keras\\src\\engine\\training.py:3079: UserWarning: You are saving your model as an HDF5 file via `model.save()`. This file format is considered legacy. We recommend using instead the native Keras format, e.g. `model.save('my_model.keras')`.\n",
            "  saving_api.save_model(\n"
          ]
        }
      ],
      "source": [
        "def train(workout_data, model_path, train=True, history_data=None, user_data=None):\n",
        "    if history_data is not None and len(history_data.title.unique()) >= 5:\n",
        "        merged_data = pd.merge(history_data, workout_data, on='title').dropna()\n",
        "        X_train, X_test, Y_train, Y_test = train_test_split(merged_data[FEATURES], merged_data['rating'], test_size=0.2)\n",
        "        # merged_data = merged_data.drop_duplicates(subset=['title'], keep='last')\n",
        "\n",
        "        model = tf.keras.Sequential([\n",
        "            tf.keras.layers.Dense(30, activation='relu'),\n",
        "            tf.keras.layers.Dense(10, activation='relu'),\n",
        "            tf.keras.layers.Dropout(0.5),\n",
        "            tf.keras.layers.Dense(1, activation='linear'),\n",
        "        ])\n",
        "\n",
        "        model.compile(\n",
        "            loss=tf.keras.losses.MeanSquaredError(),\n",
        "            optimizer=tf.keras.optimizers.Adam(),\n",
        "            metrics=['mse', 'mae']\n",
        "        )\n",
        "\n",
        "        history = model.fit(\n",
        "            X_train, Y_train,\n",
        "            epochs=500,\n",
        "            validation_data=(X_test, Y_test),\n",
        "            verbose=0\n",
        "        )\n",
        "\n",
        "        loss = model.evaluate(X_test, Y_test)\n",
        "        print(f\"Test loss: {loss}\")\n",
        "\n",
        "        model.save(model_path)\n",
        "\n",
        "        return model\n",
        "    elif user_data is not None:\n",
        "        pass\n",
        "\n",
        "model = train(df_workout_copy, './saved_model/dummy_workout_recommend.h5', history_data=df_hist_copy)"
      ]
    },
    {
      "cell_type": "code",
      "execution_count": 14,
      "metadata": {},
      "outputs": [
        {
          "data": {
            "text/html": [
              "<div>\n",
              "<style scoped>\n",
              "    .dataframe tbody tr th:only-of-type {\n",
              "        vertical-align: middle;\n",
              "    }\n",
              "\n",
              "    .dataframe tbody tr th {\n",
              "        vertical-align: top;\n",
              "    }\n",
              "\n",
              "    .dataframe thead th {\n",
              "        text-align: right;\n",
              "    }\n",
              "</style>\n",
              "<table border=\"1\" class=\"dataframe\">\n",
              "  <thead>\n",
              "    <tr style=\"text-align: right;\">\n",
              "      <th></th>\n",
              "      <th>title</th>\n",
              "      <th>type</th>\n",
              "      <th>body_part</th>\n",
              "      <th>gender</th>\n",
              "      <th>level</th>\n",
              "    </tr>\n",
              "  </thead>\n",
              "  <tbody>\n",
              "    <tr>\n",
              "      <th>1</th>\n",
              "      <td>7</td>\n",
              "      <td>1</td>\n",
              "      <td>26</td>\n",
              "      <td>1</td>\n",
              "      <td>2</td>\n",
              "    </tr>\n",
              "    <tr>\n",
              "      <th>5</th>\n",
              "      <td>24</td>\n",
              "      <td>1</td>\n",
              "      <td>24</td>\n",
              "      <td>1</td>\n",
              "      <td>0</td>\n",
              "    </tr>\n",
              "    <tr>\n",
              "      <th>17</th>\n",
              "      <td>71</td>\n",
              "      <td>1</td>\n",
              "      <td>9</td>\n",
              "      <td>1</td>\n",
              "      <td>2</td>\n",
              "    </tr>\n",
              "    <tr>\n",
              "      <th>23</th>\n",
              "      <td>83</td>\n",
              "      <td>1</td>\n",
              "      <td>26</td>\n",
              "      <td>0</td>\n",
              "      <td>0</td>\n",
              "    </tr>\n",
              "    <tr>\n",
              "      <th>32</th>\n",
              "      <td>100</td>\n",
              "      <td>1</td>\n",
              "      <td>7</td>\n",
              "      <td>1</td>\n",
              "      <td>0</td>\n",
              "    </tr>\n",
              "    <tr>\n",
              "      <th>...</th>\n",
              "      <td>...</td>\n",
              "      <td>...</td>\n",
              "      <td>...</td>\n",
              "      <td>...</td>\n",
              "      <td>...</td>\n",
              "    </tr>\n",
              "    <tr>\n",
              "      <th>1850</th>\n",
              "      <td>314</td>\n",
              "      <td>1</td>\n",
              "      <td>0</td>\n",
              "      <td>1</td>\n",
              "      <td>2</td>\n",
              "    </tr>\n",
              "    <tr>\n",
              "      <th>1852</th>\n",
              "      <td>459</td>\n",
              "      <td>0</td>\n",
              "      <td>20</td>\n",
              "      <td>1</td>\n",
              "      <td>0</td>\n",
              "    </tr>\n",
              "    <tr>\n",
              "      <th>1860</th>\n",
              "      <td>212</td>\n",
              "      <td>0</td>\n",
              "      <td>8</td>\n",
              "      <td>1</td>\n",
              "      <td>1</td>\n",
              "    </tr>\n",
              "    <tr>\n",
              "      <th>1864</th>\n",
              "      <td>252</td>\n",
              "      <td>1</td>\n",
              "      <td>23</td>\n",
              "      <td>1</td>\n",
              "      <td>0</td>\n",
              "    </tr>\n",
              "    <tr>\n",
              "      <th>1865</th>\n",
              "      <td>248</td>\n",
              "      <td>1</td>\n",
              "      <td>23</td>\n",
              "      <td>1</td>\n",
              "      <td>2</td>\n",
              "    </tr>\n",
              "  </tbody>\n",
              "</table>\n",
              "<p>537 rows × 5 columns</p>\n",
              "</div>"
            ],
            "text/plain": [
              "      title  type  body_part  gender  level\n",
              "1         7     1         26       1      2\n",
              "5        24     1         24       1      0\n",
              "17       71     1          9       1      2\n",
              "23       83     1         26       0      0\n",
              "32      100     1          7       1      0\n",
              "...     ...   ...        ...     ...    ...\n",
              "1850    314     1          0       1      2\n",
              "1852    459     0         20       1      0\n",
              "1860    212     0          8       1      1\n",
              "1864    252     1         23       1      0\n",
              "1865    248     1         23       1      2\n",
              "\n",
              "[537 rows x 5 columns]"
            ]
          },
          "execution_count": 14,
          "metadata": {},
          "output_type": "execute_result"
        }
      ],
      "source": [
        "df_workout_copy"
      ]
    },
    {
      "cell_type": "code",
      "execution_count": 15,
      "metadata": {
        "id": "qeUgXi61XPxN"
      },
      "outputs": [],
      "source": [
        "def predict_n(n, name, gender_workout, df_hist, df_user):\n",
        "    user = df_user.copy()[df_user.name == name]\n",
        "    history = df_hist.copy()[df_hist.name == name]\n",
        "\n",
        "    gender_workout = gender_workout.copy()\n",
        "\n",
        "    columns_to_encode = get_col_to_encode(user, gender_workout)\n",
        "    print(columns_to_encode)\n",
        "\n",
        "    for col in columns_to_encode:\n",
        "\n",
        "        if col in user.columns:\n",
        "            print(col)\n",
        "            user[col] = LABEL_ENCODER[col].transform(user[col])\n",
        "\n",
        "        if col in gender_workout.columns:\n",
        "            gender_workout[col] = LABEL_ENCODER[col].transform(gender_workout[col])\n",
        "\n",
        "    user_merge = pd.merge(gender_workout, user, how='cross')\n",
        "\n",
        "    result = model.predict(user_merge[FEATURES])\n",
        "\n",
        "    top_n_index = np.argpartition(-result[:, 0], n)[:n] # Top n max values index\n",
        "    sorted_top_n_index = top_n_index[np.argsort(-result[top_n_index][:, 0])] # Sorted from max to min\n",
        "\n",
        "    top_n_recommended = gender_workout.iloc[sorted_top_n_index]\n",
        "    top_n_recommended_workout = LABEL_ENCODER['title'].inverse_transform(top_n_recommended.title)\n",
        "\n",
        "    return top_n_recommended_workout"
      ]
    },
    {
      "cell_type": "code",
      "execution_count": 17,
      "metadata": {
        "colab": {
          "base_uri": "https://localhost:8080/"
        },
        "id": "AcCs2QHkXPxO",
        "outputId": "002a8000-dde9-412b-ab2b-2517bef3a5a9"
      },
      "outputs": [
        {
          "name": "stdout",
          "output_type": "stream",
          "text": [
            "                    name  gender  weight  height  age         level\n",
            "1000000  Williamd Krause  Female    57.1     163   21  Intermediate\n",
            "{'body_part', 'level', 'title', 'type', 'gender'}\n",
            "level\n",
            "gender\n",
            "5/5 [==============================] - 0s 2ms/step\n"
          ]
        },
        {
          "data": {
            "text/plain": [
              "array(['Air Bike (VERSION 2) (female)', 'Alternate Leg Raise',\n",
              "       'Standing Gastrocnemius Calf Stretch (female)',\n",
              "       'Side Bridge with Bent Leg (female)',\n",
              "       'Intermediate Hip Flexor and Quad Stretch (female)',\n",
              "       'Neck Side Stretch (female)', 'Seated Calf Stretch (female)',\n",
              "       'Sitting Bent Over Back Stretch (female)',\n",
              "       'Forward to Side to Rear Lunge (female)',\n",
              "       'Lying Leg Raise (female)'], dtype=object)"
            ]
          },
          "execution_count": 17,
          "metadata": {},
          "output_type": "execute_result"
        }
      ],
      "source": [
        "# user = df_user.loc[df_user.level == 'Intermediate'].sample(1)\n",
        "user = pd.DataFrame({\n",
        "    'name': {1000000: 'Williamd Krause'},\n",
        "    'gender': {1000000: 'Female'},\n",
        "    'weight': {1000000: 57.1},\n",
        "    'height': {1000000: 163},\n",
        "    'age': {1000000: 21},\n",
        "    'level': {1000000: 'Intermediate'}\n",
        "})\n",
        "\n",
        "name = user.name.values[0]\n",
        "gender_work = df_workout[\n",
        "    (df_workout.gender == user.gender.values[0]) & (~df_workout.title.isin(df_hist[df_hist.name == name].title))\n",
        "]\n",
        "n = 10\n",
        "\n",
        "print(user)\n",
        "\n",
        "top_n_prediction = predict_n(n, name, gender_work, df_hist, df_user)\n",
        "\n",
        "top_n_prediction"
      ]
    },
    {
      "cell_type": "code",
      "execution_count": 18,
      "metadata": {
        "colab": {
          "base_uri": "https://localhost:8080/",
          "height": 1000
        },
        "id": "SU7Iu9D1XPxQ",
        "outputId": "69d13844-143e-429e-bf8b-d82e270d4287"
      },
      "outputs": [
        {
          "data": {
            "text/html": [
              "<div>\n",
              "<style scoped>\n",
              "    .dataframe tbody tr th:only-of-type {\n",
              "        vertical-align: middle;\n",
              "    }\n",
              "\n",
              "    .dataframe tbody tr th {\n",
              "        vertical-align: top;\n",
              "    }\n",
              "\n",
              "    .dataframe thead th {\n",
              "        text-align: right;\n",
              "    }\n",
              "</style>\n",
              "<table border=\"1\" class=\"dataframe\">\n",
              "  <thead>\n",
              "    <tr style=\"text-align: right;\">\n",
              "      <th></th>\n",
              "      <th>name</th>\n",
              "      <th>gender</th>\n",
              "      <th>title</th>\n",
              "      <th>level</th>\n",
              "      <th>rating</th>\n",
              "      <th>diff</th>\n",
              "    </tr>\n",
              "  </thead>\n",
              "  <tbody>\n",
              "  </tbody>\n",
              "</table>\n",
              "</div>"
            ],
            "text/plain": [
              "Empty DataFrame\n",
              "Columns: [name, gender, title, level, rating, diff]\n",
              "Index: []"
            ]
          },
          "execution_count": 18,
          "metadata": {},
          "output_type": "execute_result"
        }
      ],
      "source": [
        "user_hist = df_hist[df_hist.name == name]\n",
        "user_hist"
      ]
    },
    {
      "cell_type": "code",
      "execution_count": 19,
      "metadata": {
        "colab": {
          "base_uri": "https://localhost:8080/",
          "height": 1000
        },
        "id": "cDHzJs5jXPxT",
        "outputId": "d2c7ed95-9920-436c-8882-f02d3c54e512"
      },
      "outputs": [
        {
          "data": {
            "text/html": [
              "<div>\n",
              "<style scoped>\n",
              "    .dataframe tbody tr th:only-of-type {\n",
              "        vertical-align: middle;\n",
              "    }\n",
              "\n",
              "    .dataframe tbody tr th {\n",
              "        vertical-align: top;\n",
              "    }\n",
              "\n",
              "    .dataframe thead th {\n",
              "        text-align: right;\n",
              "    }\n",
              "</style>\n",
              "<table border=\"1\" class=\"dataframe\">\n",
              "  <thead>\n",
              "    <tr style=\"text-align: right;\">\n",
              "      <th></th>\n",
              "      <th>type</th>\n",
              "      <th>body_part</th>\n",
              "      <th>gender_x</th>\n",
              "      <th>level_x</th>\n",
              "      <th>name</th>\n",
              "      <th>gender_y</th>\n",
              "      <th>title</th>\n",
              "      <th>level_y</th>\n",
              "      <th>rating</th>\n",
              "      <th>diff</th>\n",
              "    </tr>\n",
              "  </thead>\n",
              "  <tbody>\n",
              "  </tbody>\n",
              "</table>\n",
              "</div>"
            ],
            "text/plain": [
              "Empty DataFrame\n",
              "Columns: [type, body_part, gender_x, level_x, name, gender_y, title, level_y, rating, diff]\n",
              "Index: []"
            ]
          },
          "execution_count": 19,
          "metadata": {},
          "output_type": "execute_result"
        }
      ],
      "source": [
        "pd.merge(df_workout.loc[df_workout.title.isin(user_hist.title)], user_hist, on='title').sort_values('rating')"
      ]
    },
    {
      "cell_type": "code",
      "execution_count": 20,
      "metadata": {
        "colab": {
          "base_uri": "https://localhost:8080/",
          "height": 363
        },
        "id": "71P2O3dFY2vq",
        "outputId": "63917cf9-4d3b-4a49-9ef6-50ff1081e5a4"
      },
      "outputs": [
        {
          "data": {
            "text/html": [
              "<div>\n",
              "<style scoped>\n",
              "    .dataframe tbody tr th:only-of-type {\n",
              "        vertical-align: middle;\n",
              "    }\n",
              "\n",
              "    .dataframe tbody tr th {\n",
              "        vertical-align: top;\n",
              "    }\n",
              "\n",
              "    .dataframe thead th {\n",
              "        text-align: right;\n",
              "    }\n",
              "</style>\n",
              "<table border=\"1\" class=\"dataframe\">\n",
              "  <thead>\n",
              "    <tr style=\"text-align: right;\">\n",
              "      <th></th>\n",
              "      <th>title</th>\n",
              "      <th>type</th>\n",
              "      <th>body_part</th>\n",
              "      <th>gender</th>\n",
              "      <th>level</th>\n",
              "    </tr>\n",
              "  </thead>\n",
              "  <tbody>\n",
              "    <tr>\n",
              "      <th>0</th>\n",
              "      <td>Air Bike (VERSION 2) (female)</td>\n",
              "      <td>Strength</td>\n",
              "      <td>Waist</td>\n",
              "      <td>Female</td>\n",
              "      <td>Expert</td>\n",
              "    </tr>\n",
              "    <tr>\n",
              "      <th>1</th>\n",
              "      <td>Alternate Leg Raise</td>\n",
              "      <td>Strength</td>\n",
              "      <td>Hips</td>\n",
              "      <td>Female</td>\n",
              "      <td>Beginner</td>\n",
              "    </tr>\n",
              "    <tr>\n",
              "      <th>2</th>\n",
              "      <td>Standing Gastrocnemius Calf Stretch (female)</td>\n",
              "      <td>Stretching</td>\n",
              "      <td>Calves</td>\n",
              "      <td>Female</td>\n",
              "      <td>Beginner</td>\n",
              "    </tr>\n",
              "    <tr>\n",
              "      <th>3</th>\n",
              "      <td>Side Bridge with Bent Leg (female)</td>\n",
              "      <td>Strength</td>\n",
              "      <td>Waist</td>\n",
              "      <td>Female</td>\n",
              "      <td>Beginner</td>\n",
              "    </tr>\n",
              "    <tr>\n",
              "      <th>4</th>\n",
              "      <td>Intermediate Hip Flexor and Quad Stretch (female)</td>\n",
              "      <td>Stretching</td>\n",
              "      <td>Thighs</td>\n",
              "      <td>Female</td>\n",
              "      <td>Intermediate</td>\n",
              "    </tr>\n",
              "    <tr>\n",
              "      <th>5</th>\n",
              "      <td>Neck Side Stretch (female)</td>\n",
              "      <td>Stretching</td>\n",
              "      <td>Neck</td>\n",
              "      <td>Female</td>\n",
              "      <td>Beginner</td>\n",
              "    </tr>\n",
              "    <tr>\n",
              "      <th>6</th>\n",
              "      <td>Seated Calf Stretch (female)</td>\n",
              "      <td>Stretching</td>\n",
              "      <td>Calves</td>\n",
              "      <td>Female</td>\n",
              "      <td>Beginner</td>\n",
              "    </tr>\n",
              "    <tr>\n",
              "      <th>7</th>\n",
              "      <td>Sitting Bent Over Back Stretch (female)</td>\n",
              "      <td>Stretching</td>\n",
              "      <td>Back</td>\n",
              "      <td>Female</td>\n",
              "      <td>Beginner</td>\n",
              "    </tr>\n",
              "    <tr>\n",
              "      <th>8</th>\n",
              "      <td>Forward to Side to Rear Lunge (female)</td>\n",
              "      <td>Strength</td>\n",
              "      <td>Hips, Thighs</td>\n",
              "      <td>Female</td>\n",
              "      <td>Intermediate</td>\n",
              "    </tr>\n",
              "    <tr>\n",
              "      <th>9</th>\n",
              "      <td>Lying Leg Raise (female)</td>\n",
              "      <td>Strength</td>\n",
              "      <td>Waist</td>\n",
              "      <td>Female</td>\n",
              "      <td>Beginner</td>\n",
              "    </tr>\n",
              "  </tbody>\n",
              "</table>\n",
              "</div>"
            ],
            "text/plain": [
              "                                               title        type  \\\n",
              "0                      Air Bike (VERSION 2) (female)    Strength   \n",
              "1                                Alternate Leg Raise    Strength   \n",
              "2       Standing Gastrocnemius Calf Stretch (female)  Stretching   \n",
              "3                 Side Bridge with Bent Leg (female)    Strength   \n",
              "4  Intermediate Hip Flexor and Quad Stretch (female)  Stretching   \n",
              "5                         Neck Side Stretch (female)  Stretching   \n",
              "6                       Seated Calf Stretch (female)  Stretching   \n",
              "7            Sitting Bent Over Back Stretch (female)  Stretching   \n",
              "8             Forward to Side to Rear Lunge (female)    Strength   \n",
              "9                           Lying Leg Raise (female)    Strength   \n",
              "\n",
              "      body_part  gender         level  \n",
              "0         Waist  Female        Expert  \n",
              "1          Hips  Female      Beginner  \n",
              "2        Calves  Female      Beginner  \n",
              "3         Waist  Female      Beginner  \n",
              "4        Thighs  Female  Intermediate  \n",
              "5          Neck  Female      Beginner  \n",
              "6        Calves  Female      Beginner  \n",
              "7          Back  Female      Beginner  \n",
              "8  Hips, Thighs  Female  Intermediate  \n",
              "9         Waist  Female      Beginner  "
            ]
          },
          "execution_count": 20,
          "metadata": {},
          "output_type": "execute_result"
        }
      ],
      "source": [
        "df_prediction = gender_work.set_index('title').loc[top_n_prediction].reset_index()\n",
        "df_prediction"
      ]
    },
    {
      "cell_type": "markdown",
      "metadata": {
        "id": "LOH6e_GBXPxU"
      },
      "source": [
        "# AutoEncoder"
      ]
    },
    {
      "cell_type": "markdown",
      "metadata": {
        "id": "22efn7lTXPxU"
      },
      "source": [
        "workout_dataset:\n",
        "\n",
        "`workout_id\ttitle\tworkout_type\tbody_part\tgender\tlevel`\n",
        "\n",
        "user_dataset:\n",
        "\n",
        "`user_id\tname\tgender\tweight\theight\tage\tlevel`"
      ]
    },
    {
      "cell_type": "code",
      "execution_count": null,
      "metadata": {
        "id": "bp4RrNPsXPxV"
      },
      "outputs": [],
      "source": [
        "import tensorflow as tf\n",
        "from tensorflow.keras.layers import Input, Dense\n",
        "from sklearn.model_selection import train_test_split\n",
        "from sklearn.preprocessing import StandardScaler\n",
        "\n",
        "\n",
        "def auto(workout_data, model_path, history_data=None, user_data=None):\n",
        "    merged_data = pd.merge(history_data, workout_data, on='title')[FEATURES]\n",
        "    X_train, X_valid = train_test_split(merged_data, test_size=0.2, random_state=42)\n",
        "\n",
        "    input_dim = len(merged_data.columns)\n",
        "    encoding_dim = 32\n",
        "\n",
        "    input_layer = Input(shape=(input_dim,))\n",
        "    encoder = Dense(encoding_dim, activation=\"relu\")(input_layer)\n",
        "    decoder = Dense(input_dim, activation=\"sigmoid\")(encoder)\n",
        "\n",
        "    autoencoder = tf.keras.models.Model(inputs=input_layer, outputs=decoder)\n",
        "    autoencoder.compile(optimizer='adam', loss='mse')\n",
        "\n",
        "    autoencoder.fit(X_train, X_train, epochs=10, batch_size=32, shuffle=True, validation_data=(X_valid, X_valid))\n",
        "\n",
        "    # Encoder for rec\n",
        "    encoder_model = tf.keras.models.Model(inputs=input_layer, outputs=encoder)\n",
        "\n",
        "    return encoder_model"
      ]
    },
    {
      "cell_type": "code",
      "execution_count": null,
      "metadata": {
        "colab": {
          "base_uri": "https://localhost:8080/"
        },
        "id": "F9uXNzu6XPxX",
        "outputId": "d8d0fc19-95e2-4566-c888-4c329c94b7a4"
      },
      "outputs": [
        {
          "name": "stdout",
          "output_type": "stream",
          "text": [
            "Epoch 1/10\n",
            "150/150 [==============================] - 1s 6ms/step - loss: 19716.4121 - val_loss: 19859.7285\n",
            "Epoch 2/10\n",
            "150/150 [==============================] - 0s 3ms/step - loss: 19716.2773 - val_loss: 19859.6035\n",
            "Epoch 3/10\n",
            "150/150 [==============================] - 0s 3ms/step - loss: 19716.1855 - val_loss: 19859.5781\n",
            "Epoch 4/10\n",
            "150/150 [==============================] - 0s 3ms/step - loss: 19716.1699 - val_loss: 19859.5664\n",
            "Epoch 5/10\n",
            "150/150 [==============================] - 0s 2ms/step - loss: 19716.1504 - val_loss: 19859.5547\n",
            "Epoch 6/10\n",
            "150/150 [==============================] - 0s 3ms/step - loss: 19716.1426 - val_loss: 19859.5352\n",
            "Epoch 7/10\n",
            "150/150 [==============================] - 0s 2ms/step - loss: 19716.1270 - val_loss: 19859.5156\n",
            "Epoch 8/10\n",
            "150/150 [==============================] - 0s 3ms/step - loss: 19716.1074 - val_loss: 19859.5098\n",
            "Epoch 9/10\n",
            "150/150 [==============================] - 0s 2ms/step - loss: 19716.1113 - val_loss: 19859.5078\n",
            "Epoch 10/10\n",
            "150/150 [==============================] - 0s 2ms/step - loss: 19716.1035 - val_loss: 19859.5098\n"
          ]
        }
      ],
      "source": [
        "encoder_model = auto(df_workout_copy, './saved_model/workout.h5', df_hist_copy)"
      ]
    },
    {
      "cell_type": "code",
      "execution_count": null,
      "metadata": {
        "colab": {
          "base_uri": "https://localhost:8080/",
          "height": 245
        },
        "id": "2TPOqSXTXPxX",
        "outputId": "2e8bba45-259c-40ff-d8d7-04fd9c9d809a"
      },
      "outputs": [
        {
          "ename": "NameError",
          "evalue": "ignored",
          "output_type": "error",
          "traceback": [
            "\u001b[0;31m---------------------------------------------------------------------------\u001b[0m",
            "\u001b[0;31mNameError\u001b[0m                                 Traceback (most recent call last)",
            "\u001b[0;32m<ipython-input-20-77d8710f7eda>\u001b[0m in \u001b[0;36m<cell line: 6>\u001b[0;34m()\u001b[0m\n\u001b[1;32m      4\u001b[0m ]\n\u001b[1;32m      5\u001b[0m \u001b[0;34m\u001b[0m\u001b[0m\n\u001b[0;32m----> 6\u001b[0;31m \u001b[0;32mfor\u001b[0m \u001b[0mcol\u001b[0m \u001b[0;32min\u001b[0m \u001b[0mcolumns_to_encode\u001b[0m\u001b[0;34m:\u001b[0m\u001b[0;34m\u001b[0m\u001b[0;34m\u001b[0m\u001b[0m\n\u001b[0m\u001b[1;32m      7\u001b[0m \u001b[0;34m\u001b[0m\u001b[0m\n\u001b[1;32m      8\u001b[0m     \u001b[0;32mif\u001b[0m \u001b[0mcol\u001b[0m \u001b[0;32min\u001b[0m \u001b[0mdummy_user\u001b[0m\u001b[0;34m.\u001b[0m\u001b[0mcolumns\u001b[0m\u001b[0;34m:\u001b[0m\u001b[0;34m\u001b[0m\u001b[0;34m\u001b[0m\u001b[0m\n",
            "\u001b[0;31mNameError\u001b[0m: name 'columns_to_encode' is not defined"
          ]
        }
      ],
      "source": [
        "dummy_user = df_user.copy()[df_user.name == df_hist.name[0]]\n",
        "dummy_gender_workout = df_workout_copy[\n",
        "    (df_workout_copy.gender == df_hist_copy.gender[0])\n",
        "]\n",
        "\n",
        "for col in columns_to_encode:\n",
        "\n",
        "    if col in dummy_user.columns:\n",
        "        dummy_user[col] = le[col].transform(dummy_user[col])\n",
        "\n",
        "\n",
        "dummy_user_merge = pd.merge(dummy_gender_workout, dummy_user, how='cross')\n",
        "dummy_user_merge.head()"
      ]
    },
    {
      "cell_type": "code",
      "execution_count": null,
      "metadata": {
        "id": "LRyqitdeXPxY"
      },
      "outputs": [],
      "source": [
        "import numpy as np\n",
        "from sklearn.metrics.pairwise import cosine_similarity\n",
        "\n",
        "def find_similar_workouts(model, user_data, workout_data, k=5):\n",
        "    workout_representations = model.predict(workout_data)\n",
        "    user_representation = model.predict(user_data)\n",
        "\n",
        "    print(\"user_representation shape:\", user_representation.shape)\n",
        "    print(\"workout_representations shape:\", workout_representations.shape)\n",
        "\n",
        "    # Calculate cosine similarity between the user and all workouts\n",
        "    similarities = cosine_similarity(user_representation.reshape(1, -1), workout_representations)\n",
        "\n",
        "    # Get top k similar workouts's idx\n",
        "    similar_workout_indices = np.argsort(similarities[0])[::-1][:k]\n",
        "\n",
        "    # Get workout data top k similar workouts\n",
        "    similar_workouts = workout_data.iloc[similar_workout_indices]\n",
        "\n",
        "    return similar_workouts"
      ]
    },
    {
      "cell_type": "code",
      "execution_count": null,
      "metadata": {
        "id": "bfcFnjeVXPxZ"
      },
      "outputs": [],
      "source": [
        "name = le['name'].inverse_transform([df_hist_copy.iloc[0][0]])[0]\n",
        "test_user = df_user.copy()[df_user.name == name]\n",
        "col_encode = list(test_user.select_dtypes(exclude=[np.number]))\n",
        "\n",
        "for col in col_encode:\n",
        "    test_user[col] = le[col].transform(test_user[col])\n",
        "\n",
        "test_user"
      ]
    },
    {
      "cell_type": "code",
      "execution_count": null,
      "metadata": {
        "id": "5Bli7TDOXPxZ"
      },
      "outputs": [],
      "source": [
        "# Find similar workouts in latent space\n",
        "similar_workouts = find_similar_workouts(encoder_model, test_user, dummy_user_merge[features], k=5)"
      ]
    },
    {
      "cell_type": "code",
      "execution_count": null,
      "metadata": {
        "id": "Wi_JExfaXPxa"
      },
      "outputs": [],
      "source": []
    }
  ],
  "metadata": {
    "colab": {
      "provenance": []
    },
    "kernelspec": {
      "display_name": "Python 3.8.10 64-bit",
      "language": "python",
      "name": "python3"
    },
    "language_info": {
      "codemirror_mode": {
        "name": "ipython",
        "version": 3
      },
      "file_extension": ".py",
      "mimetype": "text/x-python",
      "name": "python",
      "nbconvert_exporter": "python",
      "pygments_lexer": "ipython3",
      "version": "3.11.2"
    },
    "orig_nbformat": 4,
    "vscode": {
      "interpreter": {
        "hash": "723d4b7bc280cd31fdada53ad6420192b9a3a8d60631096143cc718cb9440dc1"
      }
    }
  },
  "nbformat": 4,
  "nbformat_minor": 0
}
