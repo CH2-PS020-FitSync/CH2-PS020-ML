{
  "cells": [
    {
      "cell_type": "markdown",
      "metadata": {
        "id": "YHHxVCaqXPwi"
      },
      "source": [
        "<a href=\"https://colab.research.google.com/github/CH2-PS020-FitSync/CH2-PS020-ML/blob/main/model/Workout-Recommender.ipynb\" target=\"_parent\"><img src=\"https://colab.research.google.com/assets/colab-badge.svg\" alt=\"Open In Colab\"/></a>"
      ]
    },
    {
      "cell_type": "code",
      "execution_count": 1,
      "metadata": {
        "colab": {
          "base_uri": "https://localhost:8080/"
        },
        "id": "K1Vc4oChajjq",
        "outputId": "abb54a2d-9dc8-439a-f497-4a34f2955327"
      },
      "outputs": [],
      "source": [
        "try:\n",
        "    from google.colab import drive\n",
        "\n",
        "    !pip install faker\n",
        "\n",
        "    # gymvisual-cleaned-2.json\n",
        "    !gdown \"1iFDqbXWFs3CM5mgXpsN4f5NTbZdzdMiX\"\n",
        "    # dummy_user.json\n",
        "    !gdown \"1iN6QQD2QVTjRj_I_DKE0hRjcVMHgCqsb\"\n",
        "    # dummy_user_act.json\n",
        "    !gdown \"1Ob3I8LiJGb5TESmQ4UuBZLIBTf09A5DU\"\n",
        "    # work-hist.json (DUMMY, SHOULD RETRIEVE history & users' data FROM DATABASE)\n",
        "    !gdown \"1SlgWerOrAqgBdaE4Hhzb8XHVBhPKzKwj\"\n",
        "\n",
        "    workout_json = './gymvisual-cleaned-2.json'\n",
        "    user_json = './dummy_user.json'\n",
        "    user_act_json = './dummy_user_act.json'\n",
        "    hist_json = './work-hist.json'\n",
        "except ImportError:\n",
        "    workout_json = '../data/gymvisual-cleaned-2.json'\n",
        "    user_json = '../data/dummy_user.json'\n",
        "    user_act_json = '../data/dummy_user_act.json'\n",
        "    hist_json = '../data/work-hist.json'"
      ]
    },
    {
      "cell_type": "code",
      "execution_count": 2,
      "metadata": {
        "id": "-foQmdoYajjw"
      },
      "outputs": [],
      "source": [
        "import joblib\n",
        "import json\n",
        "\n",
        "import numpy as np\n",
        "import pandas as pd\n",
        "import tensorflow as tf\n",
        "from sklearn.model_selection import train_test_split\n",
        "from sklearn.preprocessing import LabelEncoder\n",
        "from tensorflow.keras.layers import (Dense, Embedding, Flatten, Input, concatenate)\n",
        "from tensorflow.keras.models import Model"
      ]
    },
    {
      "cell_type": "code",
      "execution_count": 3,
      "metadata": {
        "id": "NcKcZP7fajjz"
      },
      "outputs": [],
      "source": [
        "with open(workout_json, 'r') as f:\n",
        "    workout_f = json.load(f)\n",
        "\n",
        "df_workout = pd.json_normalize(workout_f)\n",
        "df_user = pd.read_json(user_json)\n",
        "df_hist = pd.read_json(user_act_json)\n",
        "# df_hist = pd.read_json(hist_json)\n",
        "\n",
        "df_workout.drop(\n",
        "    ['desc', 'jpg', 'gif', 'duration.desc', 'duration.min', 'duration.rep', 'duration.set', 'duration.sec'],\n",
        "    axis=1, inplace=True\n",
        ")"
      ]
    },
    {
      "cell_type": "code",
      "execution_count": 4,
      "metadata": {
        "id": "niT7bb3NXPw_"
      },
      "outputs": [],
      "source": [
        "FEATURES = ['gender_x', 'level_x', 'title', 'type', 'body_part', 'gender_y', 'level_y']\n",
        "LABEL_ENCODER = dict()"
      ]
    },
    {
      "cell_type": "code",
      "execution_count": 5,
      "metadata": {
        "id": "Bra7AYLrXPxB"
      },
      "outputs": [],
      "source": [
        "def get_col_to_encode(*dataframes, output_path=None):\n",
        "    cols = set()\n",
        "\n",
        "    for dataframe in dataframes:\n",
        "        dataframe_cols = dataframe.select_dtypes(exclude=[np.number])\n",
        "        cols.update(dataframe_cols)\n",
        "\n",
        "        for col in dataframe_cols.columns:\n",
        "            if col != 'name':\n",
        "                LABEL_ENCODER[col] = LABEL_ENCODER.get(col, LabelEncoder().fit(dataframe[col]))\n",
        "\n",
        "    if 'name' in cols:\n",
        "        cols.remove('name')\n",
        "\n",
        "    if output_path is not None:\n",
        "        joblib.dump(LABEL_ENCODER, '../' + output_path + '.joblib')\n",
        "\n",
        "    return cols"
      ]
    },
    {
      "cell_type": "markdown",
      "metadata": {
        "id": "zh61_BhvXPxD"
      },
      "source": [
        "# EDA"
      ]
    },
    {
      "cell_type": "code",
      "execution_count": 6,
      "metadata": {
        "colab": {
          "base_uri": "https://localhost:8080/",
          "height": 206
        },
        "id": "AogstaJ5XPxE",
        "outputId": "c3a89033-4356-43ae-8ad4-1c6d3d73e179"
      },
      "outputs": [
        {
          "data": {
            "text/html": [
              "<div>\n",
              "<style scoped>\n",
              "    .dataframe tbody tr th:only-of-type {\n",
              "        vertical-align: middle;\n",
              "    }\n",
              "\n",
              "    .dataframe tbody tr th {\n",
              "        vertical-align: top;\n",
              "    }\n",
              "\n",
              "    .dataframe thead th {\n",
              "        text-align: right;\n",
              "    }\n",
              "</style>\n",
              "<table border=\"1\" class=\"dataframe\">\n",
              "  <thead>\n",
              "    <tr style=\"text-align: right;\">\n",
              "      <th></th>\n",
              "      <th>title</th>\n",
              "      <th>type</th>\n",
              "      <th>body_part</th>\n",
              "      <th>gender</th>\n",
              "      <th>level</th>\n",
              "    </tr>\n",
              "  </thead>\n",
              "  <tbody>\n",
              "    <tr>\n",
              "      <th>0</th>\n",
              "      <td>3/4 Sit-up</td>\n",
              "      <td>Strength</td>\n",
              "      <td>Waist</td>\n",
              "      <td>Male</td>\n",
              "      <td>Beginner</td>\n",
              "    </tr>\n",
              "    <tr>\n",
              "      <th>1</th>\n",
              "      <td>Air bike</td>\n",
              "      <td>Strength</td>\n",
              "      <td>Waist</td>\n",
              "      <td>Male</td>\n",
              "      <td>Intermediate</td>\n",
              "    </tr>\n",
              "    <tr>\n",
              "      <th>2</th>\n",
              "      <td>Air Twisting Crunch</td>\n",
              "      <td>Strength</td>\n",
              "      <td>Waist</td>\n",
              "      <td>Female</td>\n",
              "      <td>Beginner</td>\n",
              "    </tr>\n",
              "    <tr>\n",
              "      <th>3</th>\n",
              "      <td>Alternate Heel Touchers</td>\n",
              "      <td>Strength</td>\n",
              "      <td>Waist</td>\n",
              "      <td>Male</td>\n",
              "      <td>Beginner</td>\n",
              "    </tr>\n",
              "    <tr>\n",
              "      <th>4</th>\n",
              "      <td>Alternate Lying Floor Leg Raise</td>\n",
              "      <td>Strength</td>\n",
              "      <td>Waist</td>\n",
              "      <td>Female</td>\n",
              "      <td>Beginner</td>\n",
              "    </tr>\n",
              "  </tbody>\n",
              "</table>\n",
              "</div>"
            ],
            "text/plain": [
              "                             title      type body_part  gender         level\n",
              "0                       3/4 Sit-up  Strength     Waist    Male      Beginner\n",
              "1                         Air bike  Strength     Waist    Male  Intermediate\n",
              "2              Air Twisting Crunch  Strength     Waist  Female      Beginner\n",
              "3          Alternate Heel Touchers  Strength     Waist    Male      Beginner\n",
              "4  Alternate Lying Floor Leg Raise  Strength     Waist  Female      Beginner"
            ]
          },
          "execution_count": 6,
          "metadata": {},
          "output_type": "execute_result"
        }
      ],
      "source": [
        "df_workout.head()"
      ]
    },
    {
      "cell_type": "code",
      "execution_count": 7,
      "metadata": {
        "colab": {
          "base_uri": "https://localhost:8080/"
        },
        "id": "nNzp1yb1XPxF",
        "outputId": "2b0ce1e4-c70f-49c6-fc32-7c7f22eb5650"
      },
      "outputs": [
        {
          "name": "stdout",
          "output_type": "stream",
          "text": [
            "<class 'pandas.core.frame.DataFrame'>\n",
            "RangeIndex: 1866 entries, 0 to 1865\n",
            "Data columns (total 5 columns):\n",
            " #   Column     Non-Null Count  Dtype \n",
            "---  ------     --------------  ----- \n",
            " 0   title      1866 non-null   object\n",
            " 1   type       1865 non-null   object\n",
            " 2   body_part  1856 non-null   object\n",
            " 3   gender     1866 non-null   object\n",
            " 4   level      1866 non-null   object\n",
            "dtypes: object(5)\n",
            "memory usage: 73.0+ KB\n"
          ]
        }
      ],
      "source": [
        "df_workout.info()"
      ]
    },
    {
      "cell_type": "code",
      "execution_count": 8,
      "metadata": {
        "colab": {
          "base_uri": "https://localhost:8080/"
        },
        "id": "nCgPBqmaXPxG",
        "outputId": "08f395d5-26ab-47e7-8fdb-2a53009630b9"
      },
      "outputs": [
        {
          "name": "stdout",
          "output_type": "stream",
          "text": [
            "type\n",
            "Strength      969\n",
            "Stretching    633\n",
            "Aerobic       263\n",
            "Name: count, dtype: int64\n",
            "\n",
            "body_part\n",
            "Waist          338\n",
            "Hips           291\n",
            "Back           181\n",
            "Thighs         168\n",
            "Plyometrics    150\n",
            "Stretching     102\n",
            "Cardio          88\n",
            "Calves          88\n",
            "Chest           84\n",
            "Upper Arms      69\n",
            "Name: count, dtype: int64\n",
            "\n",
            "gender\n",
            "Male      1200\n",
            "Female     666\n",
            "Name: count, dtype: int64\n",
            "\n",
            "level\n",
            "Beginner        1661\n",
            "Intermediate     124\n",
            "Expert            81\n",
            "Name: count, dtype: int64\n"
          ]
        }
      ],
      "source": [
        "print(\n",
        "    df_workout.type.value_counts(),\n",
        "    df_workout.body_part.value_counts()[:10],\n",
        "    df_workout.gender.value_counts(),\n",
        "    df_workout.level.value_counts(),\n",
        "    sep='\\n\\n'\n",
        ")"
      ]
    },
    {
      "cell_type": "markdown",
      "metadata": {
        "id": "m_BGEb6DXPxI"
      },
      "source": [
        "# Encoding"
      ]
    },
    {
      "cell_type": "code",
      "execution_count": 9,
      "metadata": {
        "id": "vkI__RjrXPxJ"
      },
      "outputs": [],
      "source": [
        "def encode_hist_work(df_workout, df_hist):\n",
        "    encoded_df_workout = df_workout.copy()\n",
        "    encoded_df_hist = df_hist.copy()\n",
        "\n",
        "    columns_to_encode = get_col_to_encode(encoded_df_workout, encoded_df_hist, output_path='workout_hist_label') # Inplace encode\n",
        "\n",
        "    for col in columns_to_encode:\n",
        "\n",
        "        if col in encoded_df_workout.columns:\n",
        "            encoded_df_workout[col] = LABEL_ENCODER[col].transform(encoded_df_workout[col])\n",
        "\n",
        "        if col in encoded_df_hist.columns:\n",
        "            encoded_df_hist[col] = LABEL_ENCODER[col].transform(encoded_df_hist[col])\n",
        "\n",
        "\n",
        "    return encoded_df_workout, encoded_df_hist\n",
        "\n",
        "df_workout_copy, df_hist_copy = encode_hist_work(df_workout, df_hist)"
      ]
    },
    {
      "cell_type": "code",
      "execution_count": 10,
      "metadata": {},
      "outputs": [
        {
          "data": {
            "text/plain": [
              "(      title  type  body_part  gender  level\n",
              " 0         6     1         50       1      0\n",
              " 1        36     1         50       1      2\n",
              " 2        34     1         50       0      0\n",
              " 3        40     1         50       1      0\n",
              " 4        46     1         50       0      0\n",
              " ...     ...   ...        ...     ...    ...\n",
              " 1861    966     2         45       1      0\n",
              " 1862   1420     2         45       1      0\n",
              " 1863    484     2         45       0      0\n",
              " 1864    815     1         46       1      0\n",
              " 1865    810     1         46       1      2\n",
              " \n",
              " [1866 rows x 5 columns],\n",
              "                     name  gender  title  level  rating  diff\n",
              " 0           Keith Dudley       1   1667      1       8     0\n",
              " 1           Keith Dudley       1   1667      1       7     0\n",
              " 2           Keith Dudley       1   1247      1       6     0\n",
              " 3           Keith Dudley       1   1247      1       9     0\n",
              " 4           Keith Dudley       1   1247      1       8     0\n",
              " ...                  ...     ...    ...    ...     ...   ...\n",
              " 6136  Jonathan Rodriguez       1     31      1       8     0\n",
              " 6137  Jonathan Rodriguez       1     31      1       9     0\n",
              " 6138  Jonathan Rodriguez       1     31      1       5     0\n",
              " 6139  Jonathan Rodriguez       1   1247      1       9     0\n",
              " 6140  Jonathan Rodriguez       1    322      1       1     2\n",
              " \n",
              " [6141 rows x 6 columns])"
            ]
          },
          "execution_count": 10,
          "metadata": {},
          "output_type": "execute_result"
        }
      ],
      "source": [
        "df_workout_copy, df_hist_copy"
      ]
    },
    {
      "cell_type": "code",
      "execution_count": 11,
      "metadata": {
        "colab": {
          "base_uri": "https://localhost:8080/"
        },
        "id": "OAsH0ByVXPxK",
        "outputId": "0b5fad56-fafd-4241-a0a0-7ac56b6b6c86"
      },
      "outputs": [
        {
          "name": "stdout",
          "output_type": "stream",
          "text": [
            "Wrist Ulnar Deviator And Extensor Stretch': 1861, 'Wrist Ulnar Deviator And Flexor Stretch': 1862, 'X Drill (male)': 1863, 'Yoga Vajrasana Thunderbolt Diamond Pose (male)': 1864, 'ZigZag Hopes': 1865}\n",
            "{'Aerobic': 0, 'Strength': 1, 'Stretching': 2, None: 3}\n",
            "'Shoulders': 43, 'Shoulders, Thighs, Waist': 44, 'Stretching': 45, 'Thighs': 46, 'Thighs, Waist': 47, 'Upper Arms': 48, 'Upper Arms, Waist': 49, 'Waist': 50, 'Weightlifting': 51, 'Yoga': 52, None: 53}\n",
            "{'Female': 0, 'Male': 1}\n",
            "{'Beginner': 0, 'Expert': 1, 'Intermediate': 2}\n"
          ]
        }
      ],
      "source": [
        "for le in LABEL_ENCODER:\n",
        "    print(repr(dict(zip(LABEL_ENCODER[le].classes_, LABEL_ENCODER[le].transform(LABEL_ENCODER[le].classes_))))[-200:])"
      ]
    },
    {
      "cell_type": "markdown",
      "metadata": {
        "id": "Owfl6LMfXPxL"
      },
      "source": [
        "# Building Model"
      ]
    },
    {
      "cell_type": "code",
      "execution_count": 12,
      "metadata": {
        "id": "GIqtl_Q49QHo"
      },
      "outputs": [
        {
          "name": "stdout",
          "output_type": "stream",
          "text": [
            "39/39 [==============================] - 0s 2ms/step - loss: 4.5658 - mse: 4.5658 - mae: 1.7372\n",
            "Test loss: [4.565776824951172, 4.565776824951172, 1.7372322082519531]\n"
          ]
        },
        {
          "name": "stderr",
          "output_type": "stream",
          "text": [
            "c:\\Users\\asus\\Downloads\\Github\\venv playground\\env\\Lib\\site-packages\\keras\\src\\engine\\training.py:3079: UserWarning: You are saving your model as an HDF5 file via `model.save()`. This file format is considered legacy. We recommend using instead the native Keras format, e.g. `model.save('my_model.keras')`.\n",
            "  saving_api.save_model(\n"
          ]
        }
      ],
      "source": [
        "def train(workout_data, model_path, train=True, history_data=None, user_data=None):\n",
        "    if history_data is not None and len(history_data.title.unique()) >= 5:\n",
        "        merged_data = pd.merge(history_data, workout_data, on='title').dropna()\n",
        "        X_train, X_test, Y_train, Y_test = train_test_split(merged_data[FEATURES], merged_data['rating'], test_size=0.2)\n",
        "        # merged_data = merged_data.drop_duplicates(subset=['title'], keep='last')\n",
        "\n",
        "        model = tf.keras.Sequential([\n",
        "            tf.keras.layers.Dense(30, activation='relu'),\n",
        "            tf.keras.layers.Dense(10, activation='relu'),\n",
        "            tf.keras.layers.Dropout(0.5),\n",
        "            tf.keras.layers.Dense(1, activation='linear'),\n",
        "        ])\n",
        "\n",
        "        model.compile(\n",
        "            loss=tf.keras.losses.MeanSquaredError(),\n",
        "            optimizer=tf.keras.optimizers.Adam(),\n",
        "            metrics=['mse', 'mae']\n",
        "        )\n",
        "\n",
        "        history = model.fit(\n",
        "            X_train, Y_train,\n",
        "            epochs=500,\n",
        "            validation_data=(X_test, Y_test),\n",
        "            verbose=0\n",
        "        )\n",
        "\n",
        "        loss = model.evaluate(X_test, Y_test)\n",
        "        print(f\"Test loss: {loss}\")\n",
        "\n",
        "        model.save(model_path)\n",
        "\n",
        "        return model\n",
        "    elif user_data is not None:\n",
        "        pass\n",
        "\n",
        "model = train(df_workout_copy, './saved_model/dummy_workout_recommend.h5', history_data=df_hist_copy)"
      ]
    },
    {
      "cell_type": "code",
      "execution_count": 13,
      "metadata": {},
      "outputs": [
        {
          "data": {
            "text/html": [
              "<div>\n",
              "<style scoped>\n",
              "    .dataframe tbody tr th:only-of-type {\n",
              "        vertical-align: middle;\n",
              "    }\n",
              "\n",
              "    .dataframe tbody tr th {\n",
              "        vertical-align: top;\n",
              "    }\n",
              "\n",
              "    .dataframe thead th {\n",
              "        text-align: right;\n",
              "    }\n",
              "</style>\n",
              "<table border=\"1\" class=\"dataframe\">\n",
              "  <thead>\n",
              "    <tr style=\"text-align: right;\">\n",
              "      <th></th>\n",
              "      <th>title</th>\n",
              "      <th>type</th>\n",
              "      <th>body_part</th>\n",
              "      <th>gender</th>\n",
              "      <th>level</th>\n",
              "    </tr>\n",
              "  </thead>\n",
              "  <tbody>\n",
              "    <tr>\n",
              "      <th>0</th>\n",
              "      <td>6</td>\n",
              "      <td>1</td>\n",
              "      <td>50</td>\n",
              "      <td>1</td>\n",
              "      <td>0</td>\n",
              "    </tr>\n",
              "    <tr>\n",
              "      <th>1</th>\n",
              "      <td>36</td>\n",
              "      <td>1</td>\n",
              "      <td>50</td>\n",
              "      <td>1</td>\n",
              "      <td>2</td>\n",
              "    </tr>\n",
              "    <tr>\n",
              "      <th>2</th>\n",
              "      <td>34</td>\n",
              "      <td>1</td>\n",
              "      <td>50</td>\n",
              "      <td>0</td>\n",
              "      <td>0</td>\n",
              "    </tr>\n",
              "    <tr>\n",
              "      <th>3</th>\n",
              "      <td>40</td>\n",
              "      <td>1</td>\n",
              "      <td>50</td>\n",
              "      <td>1</td>\n",
              "      <td>0</td>\n",
              "    </tr>\n",
              "    <tr>\n",
              "      <th>4</th>\n",
              "      <td>46</td>\n",
              "      <td>1</td>\n",
              "      <td>50</td>\n",
              "      <td>0</td>\n",
              "      <td>0</td>\n",
              "    </tr>\n",
              "    <tr>\n",
              "      <th>...</th>\n",
              "      <td>...</td>\n",
              "      <td>...</td>\n",
              "      <td>...</td>\n",
              "      <td>...</td>\n",
              "      <td>...</td>\n",
              "    </tr>\n",
              "    <tr>\n",
              "      <th>1861</th>\n",
              "      <td>966</td>\n",
              "      <td>2</td>\n",
              "      <td>45</td>\n",
              "      <td>1</td>\n",
              "      <td>0</td>\n",
              "    </tr>\n",
              "    <tr>\n",
              "      <th>1862</th>\n",
              "      <td>1420</td>\n",
              "      <td>2</td>\n",
              "      <td>45</td>\n",
              "      <td>1</td>\n",
              "      <td>0</td>\n",
              "    </tr>\n",
              "    <tr>\n",
              "      <th>1863</th>\n",
              "      <td>484</td>\n",
              "      <td>2</td>\n",
              "      <td>45</td>\n",
              "      <td>0</td>\n",
              "      <td>0</td>\n",
              "    </tr>\n",
              "    <tr>\n",
              "      <th>1864</th>\n",
              "      <td>815</td>\n",
              "      <td>1</td>\n",
              "      <td>46</td>\n",
              "      <td>1</td>\n",
              "      <td>0</td>\n",
              "    </tr>\n",
              "    <tr>\n",
              "      <th>1865</th>\n",
              "      <td>810</td>\n",
              "      <td>1</td>\n",
              "      <td>46</td>\n",
              "      <td>1</td>\n",
              "      <td>2</td>\n",
              "    </tr>\n",
              "  </tbody>\n",
              "</table>\n",
              "<p>1866 rows × 5 columns</p>\n",
              "</div>"
            ],
            "text/plain": [
              "      title  type  body_part  gender  level\n",
              "0         6     1         50       1      0\n",
              "1        36     1         50       1      2\n",
              "2        34     1         50       0      0\n",
              "3        40     1         50       1      0\n",
              "4        46     1         50       0      0\n",
              "...     ...   ...        ...     ...    ...\n",
              "1861    966     2         45       1      0\n",
              "1862   1420     2         45       1      0\n",
              "1863    484     2         45       0      0\n",
              "1864    815     1         46       1      0\n",
              "1865    810     1         46       1      2\n",
              "\n",
              "[1866 rows x 5 columns]"
            ]
          },
          "execution_count": 13,
          "metadata": {},
          "output_type": "execute_result"
        }
      ],
      "source": [
        "df_workout_copy"
      ]
    },
    {
      "cell_type": "code",
      "execution_count": 14,
      "metadata": {
        "id": "qeUgXi61XPxN"
      },
      "outputs": [],
      "source": [
        "def predict_n(n, name, gender_workout, df_hist, df_user):\n",
        "    user = df_user.copy()[df_user.name == name]\n",
        "    history = df_hist.copy()[df_hist.name == name]\n",
        "\n",
        "    gender_workout = gender_workout.copy()\n",
        "\n",
        "    columns_to_encode = get_col_to_encode(user, gender_workout)\n",
        "    print(columns_to_encode)\n",
        "\n",
        "    for col in columns_to_encode:\n",
        "\n",
        "        if col in user.columns:\n",
        "            print(col)\n",
        "            user[col] = LABEL_ENCODER[col].transform(user[col])\n",
        "\n",
        "        if col in gender_workout.columns:\n",
        "            gender_workout[col] = LABEL_ENCODER[col].transform(gender_workout[col])\n",
        "\n",
        "    user_merge = pd.merge(gender_workout, user, how='cross')\n",
        "\n",
        "    result = model.predict(user_merge[FEATURES])\n",
        "\n",
        "    top_n_index = np.argpartition(-result[:, 0], n)[:n] # Top n max values index\n",
        "    sorted_top_n_index = top_n_index[np.argsort(-result[top_n_index][:, 0])] # Sorted from max to min\n",
        "\n",
        "    top_n_recommended = gender_workout.iloc[sorted_top_n_index]\n",
        "    top_n_recommended_workout = LABEL_ENCODER['title'].inverse_transform(top_n_recommended.title)\n",
        "\n",
        "    return top_n_recommended_workout"
      ]
    },
    {
      "cell_type": "code",
      "execution_count": 15,
      "metadata": {
        "colab": {
          "base_uri": "https://localhost:8080/"
        },
        "id": "AcCs2QHkXPxO",
        "outputId": "002a8000-dde9-412b-ab2b-2517bef3a5a9"
      },
      "outputs": [
        {
          "name": "stdout",
          "output_type": "stream",
          "text": [
            "              name  gender  weight  height  age         level\n",
            "1  Williamd Krause  Female    57.1     163   21  Intermediate\n",
            "{'body_part', 'level', 'gender', 'type', 'title'}\n",
            "level\n",
            "gender\n",
            "21/21 [==============================] - 0s 1ms/step\n"
          ]
        },
        {
          "data": {
            "text/plain": [
              "array(['Air Bike (VERSION 2) (female)', '45 degrees Side Bend (female)',\n",
              "       '45 degree Bycicle Twisting Crunch',\n",
              "       '45 degree one leg hyperextension (arms in front of chest)',\n",
              "       '45 degree twisting hyperextension', 'Ab Mat Sit-up (female)',\n",
              "       'Ab Roller Crunch', '3 Leg Dog Pose (female)',\n",
              "       '3 4 Sit up (female)', '3 Leg Chatarunga Pose (female)'],\n",
              "      dtype=object)"
            ]
          },
          "execution_count": 15,
          "metadata": {},
          "output_type": "execute_result"
        }
      ],
      "source": [
        "# user = df_user.loc[df_user.level == 'Intermediate'].sample(1)\n",
        "user = pd.DataFrame({\n",
        "    'name': {1: 'Williamd Krause'},\n",
        "    'gender': {1: 'Female'},\n",
        "    'weight': {1: 57.1},\n",
        "    'height': {1: 163},\n",
        "    'age': {1: 21},\n",
        "    'level': {1: 'Intermediate'}\n",
        "})\n",
        "\n",
        "name = user.name.values[0]\n",
        "gender_work = df_workout[\n",
        "    (df_workout.gender == user.gender.values[0]) & (~df_workout.title.isin(df_hist[df_hist.name == name].title))\n",
        "]\n",
        "n = 10\n",
        "\n",
        "print(user)\n",
        "\n",
        "top_n_prediction = predict_n(n, name, gender_work, df_hist, user) # For now use `user` as dummy new user as the database is not updated in realtime\n",
        "\n",
        "top_n_prediction"
      ]
    },
    {
      "cell_type": "code",
      "execution_count": 16,
      "metadata": {
        "colab": {
          "base_uri": "https://localhost:8080/",
          "height": 1000
        },
        "id": "SU7Iu9D1XPxQ",
        "outputId": "69d13844-143e-429e-bf8b-d82e270d4287"
      },
      "outputs": [
        {
          "data": {
            "text/html": [
              "<div>\n",
              "<style scoped>\n",
              "    .dataframe tbody tr th:only-of-type {\n",
              "        vertical-align: middle;\n",
              "    }\n",
              "\n",
              "    .dataframe tbody tr th {\n",
              "        vertical-align: top;\n",
              "    }\n",
              "\n",
              "    .dataframe thead th {\n",
              "        text-align: right;\n",
              "    }\n",
              "</style>\n",
              "<table border=\"1\" class=\"dataframe\">\n",
              "  <thead>\n",
              "    <tr style=\"text-align: right;\">\n",
              "      <th></th>\n",
              "      <th>name</th>\n",
              "      <th>gender</th>\n",
              "      <th>title</th>\n",
              "      <th>level</th>\n",
              "      <th>rating</th>\n",
              "      <th>diff</th>\n",
              "    </tr>\n",
              "  </thead>\n",
              "  <tbody>\n",
              "  </tbody>\n",
              "</table>\n",
              "</div>"
            ],
            "text/plain": [
              "Empty DataFrame\n",
              "Columns: [name, gender, title, level, rating, diff]\n",
              "Index: []"
            ]
          },
          "execution_count": 16,
          "metadata": {},
          "output_type": "execute_result"
        }
      ],
      "source": [
        "user_hist = df_hist[df_hist.name == name]\n",
        "user_hist"
      ]
    },
    {
      "cell_type": "code",
      "execution_count": 17,
      "metadata": {
        "colab": {
          "base_uri": "https://localhost:8080/",
          "height": 1000
        },
        "id": "cDHzJs5jXPxT",
        "outputId": "d2c7ed95-9920-436c-8882-f02d3c54e512"
      },
      "outputs": [
        {
          "data": {
            "text/html": [
              "<div>\n",
              "<style scoped>\n",
              "    .dataframe tbody tr th:only-of-type {\n",
              "        vertical-align: middle;\n",
              "    }\n",
              "\n",
              "    .dataframe tbody tr th {\n",
              "        vertical-align: top;\n",
              "    }\n",
              "\n",
              "    .dataframe thead th {\n",
              "        text-align: right;\n",
              "    }\n",
              "</style>\n",
              "<table border=\"1\" class=\"dataframe\">\n",
              "  <thead>\n",
              "    <tr style=\"text-align: right;\">\n",
              "      <th></th>\n",
              "      <th>type</th>\n",
              "      <th>body_part</th>\n",
              "      <th>gender_x</th>\n",
              "      <th>level_x</th>\n",
              "      <th>name</th>\n",
              "      <th>gender_y</th>\n",
              "      <th>title</th>\n",
              "      <th>level_y</th>\n",
              "      <th>rating</th>\n",
              "      <th>diff</th>\n",
              "    </tr>\n",
              "  </thead>\n",
              "  <tbody>\n",
              "  </tbody>\n",
              "</table>\n",
              "</div>"
            ],
            "text/plain": [
              "Empty DataFrame\n",
              "Columns: [type, body_part, gender_x, level_x, name, gender_y, title, level_y, rating, diff]\n",
              "Index: []"
            ]
          },
          "execution_count": 17,
          "metadata": {},
          "output_type": "execute_result"
        }
      ],
      "source": [
        "pd.merge(df_workout.loc[df_workout.title.isin(user_hist.title)], user_hist, on='title').sort_values('rating')"
      ]
    },
    {
      "cell_type": "code",
      "execution_count": 18,
      "metadata": {
        "colab": {
          "base_uri": "https://localhost:8080/",
          "height": 363
        },
        "id": "71P2O3dFY2vq",
        "outputId": "63917cf9-4d3b-4a49-9ef6-50ff1081e5a4"
      },
      "outputs": [
        {
          "data": {
            "text/html": [
              "<div>\n",
              "<style scoped>\n",
              "    .dataframe tbody tr th:only-of-type {\n",
              "        vertical-align: middle;\n",
              "    }\n",
              "\n",
              "    .dataframe tbody tr th {\n",
              "        vertical-align: top;\n",
              "    }\n",
              "\n",
              "    .dataframe thead th {\n",
              "        text-align: right;\n",
              "    }\n",
              "</style>\n",
              "<table border=\"1\" class=\"dataframe\">\n",
              "  <thead>\n",
              "    <tr style=\"text-align: right;\">\n",
              "      <th></th>\n",
              "      <th>title</th>\n",
              "      <th>type</th>\n",
              "      <th>body_part</th>\n",
              "      <th>gender</th>\n",
              "      <th>level</th>\n",
              "    </tr>\n",
              "  </thead>\n",
              "  <tbody>\n",
              "    <tr>\n",
              "      <th>0</th>\n",
              "      <td>Air Bike (VERSION 2) (female)</td>\n",
              "      <td>Strength</td>\n",
              "      <td>Waist</td>\n",
              "      <td>Female</td>\n",
              "      <td>Expert</td>\n",
              "    </tr>\n",
              "    <tr>\n",
              "      <th>1</th>\n",
              "      <td>45 degrees Side Bend (female)</td>\n",
              "      <td>Strength</td>\n",
              "      <td>Waist</td>\n",
              "      <td>Female</td>\n",
              "      <td>Beginner</td>\n",
              "    </tr>\n",
              "    <tr>\n",
              "      <th>2</th>\n",
              "      <td>45 degree Bycicle Twisting Crunch</td>\n",
              "      <td>Strength</td>\n",
              "      <td>Waist</td>\n",
              "      <td>Female</td>\n",
              "      <td>Beginner</td>\n",
              "    </tr>\n",
              "    <tr>\n",
              "      <th>3</th>\n",
              "      <td>45 degree one leg hyperextension (arms in fron...</td>\n",
              "      <td>Strength</td>\n",
              "      <td>Hips</td>\n",
              "      <td>Female</td>\n",
              "      <td>Beginner</td>\n",
              "    </tr>\n",
              "    <tr>\n",
              "      <th>4</th>\n",
              "      <td>45 degree twisting hyperextension</td>\n",
              "      <td>Strength</td>\n",
              "      <td>Hips</td>\n",
              "      <td>Female</td>\n",
              "      <td>Beginner</td>\n",
              "    </tr>\n",
              "    <tr>\n",
              "      <th>5</th>\n",
              "      <td>Ab Mat Sit-up (female)</td>\n",
              "      <td>Strength</td>\n",
              "      <td>Waist</td>\n",
              "      <td>Female</td>\n",
              "      <td>Beginner</td>\n",
              "    </tr>\n",
              "    <tr>\n",
              "      <th>6</th>\n",
              "      <td>Ab Roller Crunch</td>\n",
              "      <td>Strength</td>\n",
              "      <td>Waist</td>\n",
              "      <td>Female</td>\n",
              "      <td>Beginner</td>\n",
              "    </tr>\n",
              "    <tr>\n",
              "      <th>7</th>\n",
              "      <td>3 Leg Dog Pose (female)</td>\n",
              "      <td>Stretching</td>\n",
              "      <td>Stretching</td>\n",
              "      <td>Female</td>\n",
              "      <td>Beginner</td>\n",
              "    </tr>\n",
              "    <tr>\n",
              "      <th>8</th>\n",
              "      <td>3 4 Sit up (female)</td>\n",
              "      <td>Strength</td>\n",
              "      <td>Waist</td>\n",
              "      <td>Female</td>\n",
              "      <td>Beginner</td>\n",
              "    </tr>\n",
              "    <tr>\n",
              "      <th>9</th>\n",
              "      <td>3 Leg Chatarunga Pose (female)</td>\n",
              "      <td>Stretching</td>\n",
              "      <td>Stretching</td>\n",
              "      <td>Female</td>\n",
              "      <td>Beginner</td>\n",
              "    </tr>\n",
              "  </tbody>\n",
              "</table>\n",
              "</div>"
            ],
            "text/plain": [
              "                                               title        type   body_part  \\\n",
              "0                      Air Bike (VERSION 2) (female)    Strength       Waist   \n",
              "1                      45 degrees Side Bend (female)    Strength       Waist   \n",
              "2                  45 degree Bycicle Twisting Crunch    Strength       Waist   \n",
              "3  45 degree one leg hyperextension (arms in fron...    Strength        Hips   \n",
              "4                  45 degree twisting hyperextension    Strength        Hips   \n",
              "5                             Ab Mat Sit-up (female)    Strength       Waist   \n",
              "6                                   Ab Roller Crunch    Strength       Waist   \n",
              "7                            3 Leg Dog Pose (female)  Stretching  Stretching   \n",
              "8                                3 4 Sit up (female)    Strength       Waist   \n",
              "9                     3 Leg Chatarunga Pose (female)  Stretching  Stretching   \n",
              "\n",
              "   gender     level  \n",
              "0  Female    Expert  \n",
              "1  Female  Beginner  \n",
              "2  Female  Beginner  \n",
              "3  Female  Beginner  \n",
              "4  Female  Beginner  \n",
              "5  Female  Beginner  \n",
              "6  Female  Beginner  \n",
              "7  Female  Beginner  \n",
              "8  Female  Beginner  \n",
              "9  Female  Beginner  "
            ]
          },
          "execution_count": 18,
          "metadata": {},
          "output_type": "execute_result"
        }
      ],
      "source": [
        "df_prediction = gender_work.set_index('title').loc[top_n_prediction].reset_index()\n",
        "df_prediction"
      ]
    },
    {
      "cell_type": "markdown",
      "metadata": {
        "id": "LOH6e_GBXPxU"
      },
      "source": [
        "# AutoEncoder"
      ]
    },
    {
      "cell_type": "markdown",
      "metadata": {
        "id": "22efn7lTXPxU"
      },
      "source": [
        "workout_dataset:\n",
        "\n",
        "`workout_id\ttitle\tworkout_type\tbody_part\tgender\tlevel`\n",
        "\n",
        "user_dataset:\n",
        "\n",
        "`user_id\tname\tgender\tweight\theight\tage\tlevel`"
      ]
    },
    {
      "cell_type": "code",
      "execution_count": 19,
      "metadata": {
        "id": "bp4RrNPsXPxV"
      },
      "outputs": [],
      "source": [
        "import tensorflow as tf\n",
        "from tensorflow.keras.layers import Input, Dense\n",
        "from sklearn.model_selection import train_test_split\n",
        "from sklearn.preprocessing import StandardScaler\n",
        "\n",
        "\n",
        "def auto(workout_data, model_path, history_data=None, user_data=None):\n",
        "    merged_data = pd.merge(history_data, workout_data, on='title')[FEATURES]\n",
        "    X_train, X_valid = train_test_split(merged_data, test_size=0.2, random_state=42)\n",
        "\n",
        "    input_dim = len(merged_data.columns)\n",
        "    encoding_dim = 32\n",
        "\n",
        "    input_layer = Input(shape=(input_dim,))\n",
        "    encoder = Dense(encoding_dim, activation=\"relu\")(input_layer)\n",
        "    decoder = Dense(input_dim, activation=\"sigmoid\")(encoder)\n",
        "\n",
        "    autoencoder = tf.keras.models.Model(inputs=input_layer, outputs=decoder)\n",
        "    autoencoder.compile(optimizer='adam', loss='mse')\n",
        "\n",
        "    autoencoder.fit(X_train, X_train, epochs=10, batch_size=32, shuffle=True, validation_data=(X_valid, X_valid))\n",
        "\n",
        "    # Encoder for rec\n",
        "    encoder_model = tf.keras.models.Model(inputs=input_layer, outputs=encoder)\n",
        "\n",
        "    return encoder_model"
      ]
    },
    {
      "cell_type": "code",
      "execution_count": 20,
      "metadata": {
        "colab": {
          "base_uri": "https://localhost:8080/"
        },
        "id": "F9uXNzu6XPxX",
        "outputId": "d8d0fc19-95e2-4566-c888-4c329c94b7a4"
      },
      "outputs": [
        {
          "name": "stdout",
          "output_type": "stream",
          "text": [
            "Epoch 1/10\n",
            "154/154 [==============================] - 1s 3ms/step - loss: 224518.5625 - val_loss: 231428.3281\n",
            "Epoch 2/10\n",
            "154/154 [==============================] - 0s 2ms/step - loss: 224518.4844 - val_loss: 231428.3281\n",
            "Epoch 3/10\n",
            "154/154 [==============================] - 0s 2ms/step - loss: 224518.3906 - val_loss: 231117.7500\n",
            "Epoch 4/10\n",
            "154/154 [==============================] - 0s 2ms/step - loss: 224213.1094 - val_loss: 231114.6719\n",
            "Epoch 5/10\n",
            "154/154 [==============================] - 0s 2ms/step - loss: 224213.0312 - val_loss: 231114.6719\n",
            "Epoch 6/10\n",
            "154/154 [==============================] - 0s 2ms/step - loss: 224213.0312 - val_loss: 231114.6719\n",
            "Epoch 7/10\n",
            "154/154 [==============================] - 0s 2ms/step - loss: 224213.0312 - val_loss: 231114.6719\n",
            "Epoch 8/10\n",
            "154/154 [==============================] - 0s 2ms/step - loss: 224213.0625 - val_loss: 231114.6719\n",
            "Epoch 9/10\n",
            "154/154 [==============================] - 0s 2ms/step - loss: 224213.0000 - val_loss: 231114.6719\n",
            "Epoch 10/10\n",
            "154/154 [==============================] - 0s 2ms/step - loss: 224213.0000 - val_loss: 231114.6719\n"
          ]
        }
      ],
      "source": [
        "encoder_model = auto(df_workout_copy, './saved_model/workout.h5', df_hist_copy)"
      ]
    },
    {
      "cell_type": "code",
      "execution_count": 21,
      "metadata": {
        "colab": {
          "base_uri": "https://localhost:8080/",
          "height": 245
        },
        "id": "2TPOqSXTXPxX",
        "outputId": "2e8bba45-259c-40ff-d8d7-04fd9c9d809a"
      },
      "outputs": [
        {
          "ename": "NameError",
          "evalue": "name 'columns_to_encode' is not defined",
          "output_type": "error",
          "traceback": [
            "\u001b[1;31m---------------------------------------------------------------------------\u001b[0m",
            "\u001b[1;31mNameError\u001b[0m                                 Traceback (most recent call last)",
            "\u001b[1;32mc:\\Users\\asus\\Downloads\\Github\\venv playground\\CH2-PS020-ML\\model\\Workout-Recommender.ipynb Cell 27\u001b[0m line \u001b[0;36m6\n\u001b[0;32m      <a href='vscode-notebook-cell:/c%3A/Users/asus/Downloads/Github/venv%20playground/CH2-PS020-ML/model/Workout-Recommender.ipynb#X36sZmlsZQ%3D%3D?line=0'>1</a>\u001b[0m dummy_user \u001b[39m=\u001b[39m df_user\u001b[39m.\u001b[39mcopy()[df_user\u001b[39m.\u001b[39mname \u001b[39m==\u001b[39m df_hist\u001b[39m.\u001b[39mname[\u001b[39m0\u001b[39m]]\n\u001b[0;32m      <a href='vscode-notebook-cell:/c%3A/Users/asus/Downloads/Github/venv%20playground/CH2-PS020-ML/model/Workout-Recommender.ipynb#X36sZmlsZQ%3D%3D?line=1'>2</a>\u001b[0m dummy_gender_workout \u001b[39m=\u001b[39m df_workout_copy[\n\u001b[0;32m      <a href='vscode-notebook-cell:/c%3A/Users/asus/Downloads/Github/venv%20playground/CH2-PS020-ML/model/Workout-Recommender.ipynb#X36sZmlsZQ%3D%3D?line=2'>3</a>\u001b[0m     (df_workout_copy\u001b[39m.\u001b[39mgender \u001b[39m==\u001b[39m df_hist_copy\u001b[39m.\u001b[39mgender[\u001b[39m0\u001b[39m])\n\u001b[0;32m      <a href='vscode-notebook-cell:/c%3A/Users/asus/Downloads/Github/venv%20playground/CH2-PS020-ML/model/Workout-Recommender.ipynb#X36sZmlsZQ%3D%3D?line=3'>4</a>\u001b[0m ]\n\u001b[1;32m----> <a href='vscode-notebook-cell:/c%3A/Users/asus/Downloads/Github/venv%20playground/CH2-PS020-ML/model/Workout-Recommender.ipynb#X36sZmlsZQ%3D%3D?line=5'>6</a>\u001b[0m \u001b[39mfor\u001b[39;00m col \u001b[39min\u001b[39;00m columns_to_encode:\n\u001b[0;32m      <a href='vscode-notebook-cell:/c%3A/Users/asus/Downloads/Github/venv%20playground/CH2-PS020-ML/model/Workout-Recommender.ipynb#X36sZmlsZQ%3D%3D?line=7'>8</a>\u001b[0m     \u001b[39mif\u001b[39;00m col \u001b[39min\u001b[39;00m dummy_user\u001b[39m.\u001b[39mcolumns:\n\u001b[0;32m      <a href='vscode-notebook-cell:/c%3A/Users/asus/Downloads/Github/venv%20playground/CH2-PS020-ML/model/Workout-Recommender.ipynb#X36sZmlsZQ%3D%3D?line=8'>9</a>\u001b[0m         dummy_user[col] \u001b[39m=\u001b[39m le[col]\u001b[39m.\u001b[39mtransform(dummy_user[col])\n",
            "\u001b[1;31mNameError\u001b[0m: name 'columns_to_encode' is not defined"
          ]
        }
      ],
      "source": [
        "dummy_user = df_user.copy()[df_user.name == df_hist.name[0]]\n",
        "dummy_gender_workout = df_workout_copy[\n",
        "    (df_workout_copy.gender == df_hist_copy.gender[0])\n",
        "]\n",
        "\n",
        "for col in columns_to_encode:\n",
        "\n",
        "    if col in dummy_user.columns:\n",
        "        dummy_user[col] = le[col].transform(dummy_user[col])\n",
        "\n",
        "\n",
        "dummy_user_merge = pd.merge(dummy_gender_workout, dummy_user, how='cross')\n",
        "dummy_user_merge.head()"
      ]
    },
    {
      "cell_type": "code",
      "execution_count": null,
      "metadata": {
        "id": "LRyqitdeXPxY"
      },
      "outputs": [],
      "source": [
        "import numpy as np\n",
        "from sklearn.metrics.pairwise import cosine_similarity\n",
        "\n",
        "def find_similar_workouts(model, user_data, workout_data, k=5):\n",
        "    workout_representations = model.predict(workout_data)\n",
        "    user_representation = model.predict(user_data)\n",
        "\n",
        "    print(\"user_representation shape:\", user_representation.shape)\n",
        "    print(\"workout_representations shape:\", workout_representations.shape)\n",
        "\n",
        "    # Calculate cosine similarity between the user and all workouts\n",
        "    similarities = cosine_similarity(user_representation.reshape(1, -1), workout_representations)\n",
        "\n",
        "    # Get top k similar workouts's idx\n",
        "    similar_workout_indices = np.argsort(similarities[0])[::-1][:k]\n",
        "\n",
        "    # Get workout data top k similar workouts\n",
        "    similar_workouts = workout_data.iloc[similar_workout_indices]\n",
        "\n",
        "    return similar_workouts"
      ]
    },
    {
      "cell_type": "code",
      "execution_count": null,
      "metadata": {
        "id": "bfcFnjeVXPxZ"
      },
      "outputs": [],
      "source": [
        "name = le['name'].inverse_transform([df_hist_copy.iloc[0][0]])[0]\n",
        "test_user = df_user.copy()[df_user.name == name]\n",
        "col_encode = list(test_user.select_dtypes(exclude=[np.number]))\n",
        "\n",
        "for col in col_encode:\n",
        "    test_user[col] = le[col].transform(test_user[col])\n",
        "\n",
        "test_user"
      ]
    },
    {
      "cell_type": "code",
      "execution_count": null,
      "metadata": {
        "id": "5Bli7TDOXPxZ"
      },
      "outputs": [],
      "source": [
        "# Find similar workouts in latent space\n",
        "similar_workouts = find_similar_workouts(encoder_model, test_user, dummy_user_merge[features], k=5)"
      ]
    },
    {
      "cell_type": "code",
      "execution_count": null,
      "metadata": {
        "id": "Wi_JExfaXPxa"
      },
      "outputs": [],
      "source": []
    }
  ],
  "metadata": {
    "colab": {
      "provenance": []
    },
    "kernelspec": {
      "display_name": "Python 3.8.10 64-bit",
      "language": "python",
      "name": "python3"
    },
    "language_info": {
      "codemirror_mode": {
        "name": "ipython",
        "version": 3
      },
      "file_extension": ".py",
      "mimetype": "text/x-python",
      "name": "python",
      "nbconvert_exporter": "python",
      "pygments_lexer": "ipython3",
      "version": "3.11.2"
    },
    "orig_nbformat": 4,
    "vscode": {
      "interpreter": {
        "hash": "723d4b7bc280cd31fdada53ad6420192b9a3a8d60631096143cc718cb9440dc1"
      }
    }
  },
  "nbformat": 4,
  "nbformat_minor": 0
}
