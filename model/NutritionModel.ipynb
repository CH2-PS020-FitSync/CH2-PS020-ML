{
  "cells": [
    {
      "cell_type": "code",
      "execution_count": 1,
      "metadata": {
        "id": "IfrYuFaDUI9b"
      },
      "outputs": [],
      "source": [
        "try:\n",
        "    from google.colab import drive\n",
        "\n",
        "    !gdown \"1Mgb_IhQHroQDuG6lQ039F6NF8Yeuy6QN\"\n",
        "    \n",
        "    nutrition_json = './nutrition_data.json'\n",
        "except ImportError:\n",
        "    nutrition_json = '../data/nutrition_data.json'"
      ]
    },
    {
      "cell_type": "code",
      "execution_count": 2,
      "metadata": {
        "id": "90dQZAb3_Hx0"
      },
      "outputs": [],
      "source": [
        "import pandas as pd\n",
        "from sklearn.model_selection import train_test_split\n",
        "from sklearn.linear_model import LinearRegression\n",
        "from sklearn.compose import ColumnTransformer\n",
        "from sklearn.preprocessing import OneHotEncoder\n",
        "from sklearn.pipeline import Pipeline\n",
        "from sklearn.metrics import mean_squared_error\n",
        "from sklearn.ensemble import RandomForestRegressor"
      ]
    },
    {
      "cell_type": "code",
      "execution_count": 3,
      "metadata": {},
      "outputs": [
        {
          "name": "stdout",
          "output_type": "stream",
          "text": [
            "<class 'pandas.core.frame.DataFrame'>\n",
            "RangeIndex: 181440 entries, 0 to 181439\n",
            "Data columns (total 11 columns):\n",
            " #   Column                   Non-Null Count   Dtype \n",
            "---  ------                   --------------   ----- \n",
            " 0   Age                      181440 non-null  int64 \n",
            " 1   Weight                   181440 non-null  int64 \n",
            " 2   Gender                   181440 non-null  object\n",
            " 3   Height                   181440 non-null  int64 \n",
            " 4   Activity_Level           181440 non-null  object\n",
            " 5   Goal                     181440 non-null  object\n",
            " 6   Estimated_Calories       181440 non-null  int64 \n",
            " 7   Estimated_Carbohydrates  181440 non-null  int64 \n",
            " 8   Estimated_Protein_Min    181440 non-null  int64 \n",
            " 9   Estimated_Protein_Max    181440 non-null  int64 \n",
            " 10  Estimated_Fat            181440 non-null  int64 \n",
            "dtypes: int64(8), object(3)\n",
            "memory usage: 15.2+ MB\n"
          ]
        }
      ],
      "source": [
        "df_nutrition = pd.read_json(nutrition_json)\n",
        "df_nutrition.info()"
      ]
    },
    {
      "cell_type": "markdown",
      "metadata": {},
      "source": [
        "# EDA"
      ]
    },
    {
      "cell_type": "code",
      "execution_count": 5,
      "metadata": {},
      "outputs": [
        {
          "name": "stdout",
          "output_type": "stream",
          "text": [
            "Age\t[18 19 20 21 22 23 24 25 26 27]\n",
            "\n",
            "Weight\t[45 46 47 48 49 50 51 52 53 54]\n",
            "\n",
            "Gender\t['m' 'f']\n",
            "\n",
            "Height\t[150 151 152 153 154 155 156 157 158 159]\n",
            "\n",
            "Activity_Level\t['Sedentary' 'Light' 'Moderate' 'Active' 'Very Active' 'Extra Active']\n",
            "\n",
            "Goal\t['Maintain Weight' 'Mild Weight Loss' 'Weight Loss' 'Extreme Weight Loss']\n",
            "\n",
            "Estimated_Calories\t[1572 1414 1241  927 1801 1621 1423 1062 1919 1727]\n",
            "\n",
            "Estimated_Carbohydrates\t[235 269 287 304 338 373 236 270 288 305]\n",
            "\n",
            "Estimated_Protein_Min\t[39 45 47 50 56 62 48 51 57 63]\n",
            "\n",
            "Estimated_Protein_Max\t[137 157 167 177 197 217 138 158 168 178]\n",
            "\n",
            "Estimated_Fat\t[26 23 20 15 30 27 17 31 28 25]\n"
          ]
        }
      ],
      "source": [
        "print(\n",
        "    '\\n\\n'.join(\n",
        "        i + '\\t' + str(df_nutrition[i].unique()[:10]) for i in df_nutrition.columns\n",
        "    )\n",
        ")"
      ]
    },
    {
      "cell_type": "markdown",
      "metadata": {},
      "source": [
        "# Feature Engineering"
      ]
    },
    {
      "cell_type": "code",
      "execution_count": 7,
      "metadata": {},
      "outputs": [
        {
          "data": {
            "text/html": [
              "<div>\n",
              "<style scoped>\n",
              "    .dataframe tbody tr th:only-of-type {\n",
              "        vertical-align: middle;\n",
              "    }\n",
              "\n",
              "    .dataframe tbody tr th {\n",
              "        vertical-align: top;\n",
              "    }\n",
              "\n",
              "    .dataframe thead th {\n",
              "        text-align: right;\n",
              "    }\n",
              "</style>\n",
              "<table border=\"1\" class=\"dataframe\">\n",
              "  <thead>\n",
              "    <tr style=\"text-align: right;\">\n",
              "      <th></th>\n",
              "      <th>Age</th>\n",
              "      <th>Weight</th>\n",
              "      <th>Gender</th>\n",
              "      <th>Height</th>\n",
              "      <th>Activity_Level</th>\n",
              "      <th>Goal</th>\n",
              "      <th>Estimated_Calories</th>\n",
              "      <th>Estimated_Carbohydrates</th>\n",
              "      <th>Estimated_Protein_Min</th>\n",
              "      <th>Estimated_Protein_Max</th>\n",
              "      <th>Estimated_Fat</th>\n",
              "    </tr>\n",
              "  </thead>\n",
              "  <tbody>\n",
              "    <tr>\n",
              "      <th>0</th>\n",
              "      <td>18</td>\n",
              "      <td>45</td>\n",
              "      <td>m</td>\n",
              "      <td>150</td>\n",
              "      <td>Beginner</td>\n",
              "      <td>Maintain Weight</td>\n",
              "      <td>1572</td>\n",
              "      <td>235</td>\n",
              "      <td>39</td>\n",
              "      <td>137</td>\n",
              "      <td>26</td>\n",
              "    </tr>\n",
              "    <tr>\n",
              "      <th>1</th>\n",
              "      <td>18</td>\n",
              "      <td>45</td>\n",
              "      <td>m</td>\n",
              "      <td>150</td>\n",
              "      <td>Beginner</td>\n",
              "      <td>Mild Weight Loss</td>\n",
              "      <td>1414</td>\n",
              "      <td>235</td>\n",
              "      <td>39</td>\n",
              "      <td>137</td>\n",
              "      <td>23</td>\n",
              "    </tr>\n",
              "    <tr>\n",
              "      <th>2</th>\n",
              "      <td>18</td>\n",
              "      <td>45</td>\n",
              "      <td>m</td>\n",
              "      <td>150</td>\n",
              "      <td>Beginner</td>\n",
              "      <td>Weight Loss</td>\n",
              "      <td>1241</td>\n",
              "      <td>235</td>\n",
              "      <td>39</td>\n",
              "      <td>137</td>\n",
              "      <td>20</td>\n",
              "    </tr>\n",
              "    <tr>\n",
              "      <th>3</th>\n",
              "      <td>18</td>\n",
              "      <td>45</td>\n",
              "      <td>m</td>\n",
              "      <td>150</td>\n",
              "      <td>Beginner</td>\n",
              "      <td>Extreme Weight Loss</td>\n",
              "      <td>927</td>\n",
              "      <td>235</td>\n",
              "      <td>39</td>\n",
              "      <td>137</td>\n",
              "      <td>15</td>\n",
              "    </tr>\n",
              "    <tr>\n",
              "      <th>4</th>\n",
              "      <td>18</td>\n",
              "      <td>45</td>\n",
              "      <td>m</td>\n",
              "      <td>150</td>\n",
              "      <td>Beginner</td>\n",
              "      <td>Maintain Weight</td>\n",
              "      <td>1801</td>\n",
              "      <td>269</td>\n",
              "      <td>45</td>\n",
              "      <td>157</td>\n",
              "      <td>30</td>\n",
              "    </tr>\n",
              "  </tbody>\n",
              "</table>\n",
              "</div>"
            ],
            "text/plain": [
              "   Age  Weight Gender  Height Activity_Level                 Goal  \\\n",
              "0   18      45      m     150       Beginner      Maintain Weight   \n",
              "1   18      45      m     150       Beginner     Mild Weight Loss   \n",
              "2   18      45      m     150       Beginner          Weight Loss   \n",
              "3   18      45      m     150       Beginner  Extreme Weight Loss   \n",
              "4   18      45      m     150       Beginner      Maintain Weight   \n",
              "\n",
              "   Estimated_Calories  Estimated_Carbohydrates  Estimated_Protein_Min  \\\n",
              "0                1572                      235                     39   \n",
              "1                1414                      235                     39   \n",
              "2                1241                      235                     39   \n",
              "3                 927                      235                     39   \n",
              "4                1801                      269                     45   \n",
              "\n",
              "   Estimated_Protein_Max  Estimated_Fat  \n",
              "0                    137             26  \n",
              "1                    137             23  \n",
              "2                    137             20  \n",
              "3                    137             15  \n",
              "4                    157             30  "
            ]
          },
          "execution_count": 7,
          "metadata": {},
          "output_type": "execute_result"
        }
      ],
      "source": [
        "df_nutrition['Activity_Level'].replace({\n",
        "        'Sedentary|Light': 'Beginner',\n",
        "        'Moderate|Active': 'Intermediate',\n",
        "        'Very Active|Extra Active': 'Expert'\n",
        "    },\n",
        "    regex=True,\n",
        "    inplace=True\n",
        ")\n",
        "\n",
        "df_nutrition.head()"
      ]
    },
    {
      "cell_type": "markdown",
      "metadata": {
        "id": "dlcj4dkZUg3b"
      },
      "source": [
        "# Split data into features and target variable"
      ]
    },
    {
      "cell_type": "code",
      "execution_count": 65,
      "metadata": {
        "id": "AYXpC58KUhPG"
      },
      "outputs": [],
      "source": [
        "FEATURES = ['Age', 'Weight' , 'Height', 'Activity_Level', 'Goal']\n",
        "TARGET = ['Estimated_Calories']\n",
        "\n",
        "X = df_nutrition[FEATURES]\n",
        "y = df_nutrition[TARGET]\n",
        "\n",
        "X_train, X_test, y_train, y_test = train_test_split(X, y, test_size=0.2, random_state=42)\n"
      ]
    },
    {
      "cell_type": "markdown",
      "metadata": {
        "id": "RPcwsjo6Ul90"
      },
      "source": [
        "# Preprocessing for categorical variables"
      ]
    },
    {
      "cell_type": "code",
      "execution_count": 67,
      "metadata": {
        "id": "FVIWhMD4UmE7"
      },
      "outputs": [],
      "source": [
        "categorical_cols = ['Activity_Level', 'Goal']\n",
        "categorical_transformer = OneHotEncoder(handle_unknown='ignore')\n"
      ]
    },
    {
      "cell_type": "markdown",
      "metadata": {
        "id": "lnsJbCAiuThZ"
      },
      "source": [
        "# Combine preprocessing steps\n"
      ]
    },
    {
      "cell_type": "code",
      "execution_count": 68,
      "metadata": {
        "id": "ENjziv7RuVyW"
      },
      "outputs": [],
      "source": [
        "preprocessor = ColumnTransformer(\n",
        "    transformers=[\n",
        "        ('cat', categorical_transformer, categorical_cols)\n",
        "    ])"
      ]
    },
    {
      "cell_type": "markdown",
      "metadata": {
        "id": "DDlrMe6nuW-X"
      },
      "source": [
        "# Create pipelines for both models with preprocessing"
      ]
    },
    {
      "cell_type": "code",
      "execution_count": 69,
      "metadata": {
        "id": "hq6mWTuwuZPu"
      },
      "outputs": [],
      "source": [
        "linear_pipeline = Pipeline(steps=[\n",
        "    ('preprocessor', preprocessor),\n",
        "    ('regressor', LinearRegression())\n",
        "])\n",
        "\n",
        "forest_pipeline = Pipeline(steps=[\n",
        "    ('preprocessor', preprocessor),\n",
        "    ('regressor', RandomForestRegressor(n_estimators=100, random_state=42))\n",
        "])"
      ]
    },
    {
      "cell_type": "markdown",
      "metadata": {
        "id": "-oHVMxWxxRPD"
      },
      "source": [
        "# Train and evaluate Linear Regression model"
      ]
    },
    {
      "cell_type": "code",
      "execution_count": 70,
      "metadata": {
        "colab": {
          "base_uri": "https://localhost:8080/"
        },
        "id": "3Qumx4dUxTRP",
        "outputId": "23ce1ae8-fbf1-4580-dfa1-8170cd30ce12"
      },
      "outputs": [
        {
          "name": "stdout",
          "output_type": "stream",
          "text": [
            "Linear Regression Mean Squared Error: 25661.96853585435\n"
          ]
        }
      ],
      "source": [
        "linear_pipeline.fit(X_train, y_train)\n",
        "linear_y_pred = linear_pipeline.predict(X_test)\n",
        "linear_mse = mean_squared_error(y_test, linear_y_pred)\n",
        "print(f\"Linear Regression Mean Squared Error: {linear_mse}\")"
      ]
    },
    {
      "cell_type": "markdown",
      "metadata": {
        "id": "DTvlzGPXxUww"
      },
      "source": [
        "\n",
        "# Train and evaluate Random Forest Regressor model"
      ]
    },
    {
      "cell_type": "code",
      "execution_count": 71,
      "metadata": {
        "colab": {
          "base_uri": "https://localhost:8080/"
        },
        "id": "XeZgqrS8xV9_",
        "outputId": "d3307ee9-4827-4755-e10f-b17cb822697f"
      },
      "outputs": [
        {
          "name": "stdout",
          "output_type": "stream",
          "text": [
            "Random Forest Regressor Mean Squared Error: 23362.40246864075\n"
          ]
        }
      ],
      "source": [
        "forest_pipeline.fit(X_train, y_train)\n",
        "forest_y_pred = forest_pipeline.predict(X_test)\n",
        "forest_mse = mean_squared_error(y_test, forest_y_pred)\n",
        "print(f\"Random Forest Regressor Mean Squared Error: {forest_mse}\")"
      ]
    }
  ],
  "metadata": {
    "colab": {
      "provenance": []
    },
    "kernelspec": {
      "display_name": "Python 3",
      "name": "python3"
    },
    "language_info": {
      "codemirror_mode": {
        "name": "ipython",
        "version": 3
      },
      "file_extension": ".py",
      "mimetype": "text/x-python",
      "name": "python",
      "nbconvert_exporter": "python",
      "pygments_lexer": "ipython3",
      "version": "3.11.2"
    }
  },
  "nbformat": 4,
  "nbformat_minor": 0
}
